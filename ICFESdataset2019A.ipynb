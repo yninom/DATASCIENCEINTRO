{
 "cells": [
  {
   "cell_type": "markdown",
   "id": "03532c24",
   "metadata": {},
   "source": [
    "# Data Exploration"
   ]
  },
  {
   "cell_type": "markdown",
   "id": "bf715247",
   "metadata": {},
   "source": [
    "Hey! During this first step, please, take a look at the data set and just explore it, find the types of each column and try to find interesting things. Don't worry about data cleaning. Just exploration for now.  \n",
    "You can answer the following questions:\n",
    "- How many columns there are\n",
    "- The type of each column\n",
    "- The different values that a column can take\n",
    "- Which do you think are the most important columns? If we are looking at the overall score.\n",
    "\n",
    "Go wild! (Remember, so far, only exploration).\n"
   ]
  },
  {
   "attachments": {},
   "cell_type": "markdown",
   "id": "fc50721c",
   "metadata": {},
   "source": [
    "1. ¿How many columns there are?"
   ]
  },
  {
   "cell_type": "code",
   "execution_count": 1,
   "id": "be2bde8d",
   "metadata": {},
   "outputs": [],
   "source": [
    "import pandas as pd\n",
    "import numpy as np\n",
    "import seaborn as sns\n",
    "import matplotlib\n",
    "import matplotlib.pyplot as plt"
   ]
  },
  {
   "cell_type": "code",
   "execution_count": 2,
   "id": "46376140",
   "metadata": {},
   "outputs": [
    {
     "name": "stderr",
     "output_type": "stream",
     "text": [
      "C:\\Users\\ynino\\AppData\\Local\\Temp\\ipykernel_2848\\2341241373.py:1: DtypeWarning: Columns (76,78) have mixed types. Specify dtype option on import or set low_memory=False.\n",
      "  icfesdata = pd.read_csv('Saber_11__2019-2.csv')\n"
     ]
    },
    {
     "name": "stdout",
     "output_type": "stream",
     "text": [
      "<class 'pandas.core.frame.DataFrame'>\n",
      "RangeIndex: 546212 entries, 0 to 546211\n",
      "Data columns (total 82 columns):\n",
      " #   Column                         Non-Null Count   Dtype  \n",
      "---  ------                         --------------   -----  \n",
      " 0   ESTU_TIPODOCUMENTO             546212 non-null  object \n",
      " 1   ESTU_NACIONALIDAD              546212 non-null  object \n",
      " 2   ESTU_GENERO                    546212 non-null  object \n",
      " 3   ESTU_FECHANACIMIENTO           546212 non-null  object \n",
      " 4   PERIODO                        546212 non-null  int64  \n",
      " 5   ESTU_CONSECUTIVO               546212 non-null  object \n",
      " 6   ESTU_ESTUDIANTE                546212 non-null  object \n",
      " 7   ESTU_TIENEETNIA                546212 non-null  object \n",
      " 8   ESTU_PAIS_RESIDE               546212 non-null  object \n",
      " 9   ESTU_ETNIA                     546212 non-null  object \n",
      " 10  ESTU_DEPTO_RESIDE              545835 non-null  object \n",
      " 11  ESTU_COD_RESIDE_DEPTO          546212 non-null  object \n",
      " 12  ESTU_MCPIO_RESIDE              545835 non-null  object \n",
      " 13  ESTU_COD_RESIDE_MCPIO          546212 non-null  object \n",
      " 14  FAMI_ESTRATOVIVIENDA           546186 non-null  object \n",
      " 15  FAMI_PERSONASHOGAR             537749 non-null  object \n",
      " 16  FAMI_CUARTOSHOGAR              539794 non-null  object \n",
      " 17  FAMI_EDUCACIONPADRE            537920 non-null  object \n",
      " 18  FAMI_EDUCACIONMADRE            525253 non-null  object \n",
      " 19  FAMI_TRABAJOLABORPADRE         538081 non-null  object \n",
      " 20  FAMI_TRABAJOLABORMADRE         538743 non-null  object \n",
      " 21  FAMI_TIENEINTERNET             537875 non-null  object \n",
      " 22  FAMI_TIENESERVICIOTV           523932 non-null  object \n",
      " 23  FAMI_TIENECOMPUTADOR           538027 non-null  object \n",
      " 24  FAMI_TIENELAVADORA             538569 non-null  object \n",
      " 25  FAMI_TIENEHORNOMICROOGAS       537582 non-null  object \n",
      " 26  FAMI_TIENEAUTOMOVIL            538006 non-null  object \n",
      " 27  FAMI_TIENEMOTOCICLETA          537395 non-null  object \n",
      " 28  FAMI_TIENECONSOLAVIDEOJUEGOS   538487 non-null  object \n",
      " 29  FAMI_NUMLIBROS                 537558 non-null  object \n",
      " 30  FAMI_COMELECHEDERIVADOS        523907 non-null  object \n",
      " 31  FAMI_COMECARNEPESCADOHUEVO     536587 non-null  object \n",
      " 32  FAMI_COMECEREALFRUTOSLEGUMBRE  523880 non-null  object \n",
      " 33  FAMI_SITUACIONECONOMICA        537953 non-null  object \n",
      " 34  ESTU_DEDICACIONLECTURADIARIA   545585 non-null  object \n",
      " 35  ESTU_DEDICACIONINTERNET        515914 non-null  object \n",
      " 36  ESTU_HORASSEMANATRABAJA        545831 non-null  object \n",
      " 37  ESTU_TIPOREMUNERACION          530704 non-null  object \n",
      " 38  COLE_CODIGO_ICFES              546212 non-null  int64  \n",
      " 39  COLE_COD_DANE_ESTABLECIMIENTO  546212 non-null  int64  \n",
      " 40  COLE_NOMBRE_ESTABLECIMIENTO    546212 non-null  object \n",
      " 41  COLE_GENERO                    546212 non-null  object \n",
      " 42  COLE_NATURALEZA                546212 non-null  object \n",
      " 43  COLE_CALENDARIO                546212 non-null  object \n",
      " 44  COLE_BILINGUE                  546212 non-null  object \n",
      " 45  COLE_CARACTER                  532464 non-null  object \n",
      " 46  COLE_COD_DANE_SEDE             546212 non-null  int64  \n",
      " 47  COLE_NOMBRE_SEDE               546212 non-null  object \n",
      " 48  COLE_SEDE_PRINCIPAL            546212 non-null  object \n",
      " 49  COLE_AREA_UBICACION            546212 non-null  object \n",
      " 50  COLE_JORNADA                   546212 non-null  object \n",
      " 51  COLE_COD_MCPIO_UBICACION       546212 non-null  int64  \n",
      " 52  COLE_MCPIO_UBICACION           546212 non-null  object \n",
      " 53  COLE_COD_DEPTO_UBICACION       546212 non-null  int64  \n",
      " 54  COLE_DEPTO_UBICACION           546212 non-null  object \n",
      " 55  ESTU_PRIVADO_LIBERTAD          546212 non-null  object \n",
      " 56  ESTU_COD_MCPIO_PRESENTACION    546212 non-null  int64  \n",
      " 57  ESTU_MCPIO_PRESENTACION        546212 non-null  object \n",
      " 58  ESTU_DEPTO_PRESENTACION        546212 non-null  object \n",
      " 59  ESTU_COD_DEPTO_PRESENTACION    546212 non-null  int64  \n",
      " 60  PUNT_LECTURA_CRITICA           546212 non-null  int64  \n",
      " 61  PERCENTIL_LECTURA_CRITICA      546212 non-null  int64  \n",
      " 62  DESEMP_LECTURA_CRITICA         546212 non-null  int64  \n",
      " 63  PUNT_MATEMATICAS               546212 non-null  int64  \n",
      " 64  PERCENTIL_MATEMATICAS          546212 non-null  int64  \n",
      " 65  DESEMP_MATEMATICAS             546212 non-null  int64  \n",
      " 66  PUNT_C_NATURALES               546212 non-null  int64  \n",
      " 67  PERCENTIL_C_NATURALES          546212 non-null  int64  \n",
      " 68  DESEMP_C_NATURALES             546212 non-null  int64  \n",
      " 69  PUNT_SOCIALES_CIUDADANAS       546212 non-null  int64  \n",
      " 70  PERCENTIL_SOCIALES_CIUDADANAS  546212 non-null  int64  \n",
      " 71  DESEMP_SOCIALES_CIUDADANAS     546212 non-null  int64  \n",
      " 72  PUNT_INGLES                    546193 non-null  float64\n",
      " 73  PERCENTIL_INGLES               546212 non-null  int64  \n",
      " 74  DESEMP_INGLES                  546212 non-null  object \n",
      " 75  PUNT_GLOBAL                    546212 non-null  int64  \n",
      " 76  PERCENTIL_GLOBAL               546212 non-null  object \n",
      " 77  ESTU_INSE_INDIVIDUAL           546208 non-null  object \n",
      " 78  ESTU_NSE_INDIVIDUAL            529171 non-null  object \n",
      " 79  ESTU_NSE_ESTABLECIMIENTO       546168 non-null  float64\n",
      " 80  ESTU_ESTADOINVESTIGACION       546212 non-null  object \n",
      " 81  ESTU_GENERACION-E              546212 non-null  object \n",
      "dtypes: float64(2), int64(22), object(58)\n",
      "memory usage: 341.7+ MB\n"
     ]
    }
   ],
   "source": [
    "icfesdata = pd.read_csv('Saber_11__2019-2.csv')\n",
    "icfesdata.info()"
   ]
  },
  {
   "cell_type": "code",
   "execution_count": 3,
   "id": "6f3fea2c",
   "metadata": {},
   "outputs": [
    {
     "name": "stdout",
     "output_type": "stream",
     "text": [
      "The data contains 546212 rows and 82 columns.\n"
     ]
    }
   ],
   "source": [
    "datashape = icfesdata.shape\n",
    "print('The data contains', datashape[0], 'rows and', datashape[1], 'columns.')"
   ]
  },
  {
   "attachments": {},
   "cell_type": "markdown",
   "id": "4dc86d51",
   "metadata": {},
   "source": [
    "2. The type of each column"
   ]
  },
  {
   "cell_type": "code",
   "execution_count": 77,
   "id": "b1b687c8",
   "metadata": {},
   "outputs": [
    {
     "data": {
      "text/plain": [
       "Si    295409\n",
       "No    233827\n",
       "-       8791\n",
       "Name: FAMI_TIENECOMPUTADOR, dtype: int64"
      ]
     },
     "execution_count": 77,
     "metadata": {},
     "output_type": "execute_result"
    }
   ],
   "source": [
    "icfesdata['FAMI_TIENECOMPUTADOR'].value_counts()"
   ]
  },
  {
   "cell_type": "code",
   "execution_count": 4,
   "id": "5ec7851f",
   "metadata": {},
   "outputs": [],
   "source": [
    "coltypes = dict(icfesdata.dtypes)\n",
    "#print(coltypes)"
   ]
  },
  {
   "cell_type": "code",
   "execution_count": 5,
   "id": "917fe60b",
   "metadata": {},
   "outputs": [],
   "source": [
    "# coltypes1 = pd.DataFrame([[key, coltypes[key]] for key in coltypes.keys()], columns=['Columns', 'Type'])\n",
    "# coltypes1"
   ]
  },
  {
   "cell_type": "code",
   "execution_count": 6,
   "id": "4b95a30b",
   "metadata": {},
   "outputs": [],
   "source": [
    "# coltypes2 = coltypes1.groupby('Type').count()\n",
    "# print('Of the', datashape[1], 'columns, we have the following number of columns per type of data')\n",
    "# print(coltypes2)"
   ]
  },
  {
   "cell_type": "code",
   "execution_count": 7,
   "metadata": {},
   "outputs": [],
   "source": [
    "# coltypesobj = coltypes1[coltypes1['Type'] == object] \n",
    "# coltypesint = coltypes1[coltypes1['Type'] == 'int64'] \n",
    "# coltypesflt = coltypes1[coltypes1['Type'] == 'float64'] \n",
    "# coltypesflt"
   ]
  },
  {
   "cell_type": "code",
   "execution_count": 8,
   "id": "ccf4766f",
   "metadata": {},
   "outputs": [],
   "source": [
    "coltypesobj = icfesdata.select_dtypes(['float64'])\n",
    "coltypesint = icfesdata.select_dtypes(['int64'])\n",
    "coltypesflt = icfesdata.select_dtypes(['object'])"
   ]
  },
  {
   "attachments": {},
   "cell_type": "markdown",
   "id": "eac0a3db",
   "metadata": {},
   "source": [
    "3. The different values that a column can take"
   ]
  },
  {
   "cell_type": "code",
   "execution_count": 9,
   "id": "6c2eb891",
   "metadata": {},
   "outputs": [],
   "source": [
    "cols = list(icfesdata.columns)\n",
    "#print(cols)"
   ]
  },
  {
   "cell_type": "code",
   "execution_count": 10,
   "id": "2bca7d00",
   "metadata": {},
   "outputs": [],
   "source": [
    "for i in cols:\n",
    "    colvalues = icfesdata[i].value_counts()\n",
    "    #print(colvalues)"
   ]
  },
  {
   "attachments": {},
   "cell_type": "markdown",
   "id": "167eaa9f",
   "metadata": {},
   "source": [
    "In this part I had some difficulties, because I didn't know how to count the occurrences of each column to know which values were registered in a single instruction. I tried with several functions and cycles, some worked but I got a matrix with a million rows because I counted the values of all the columns in each column, others didn't work and this was the simplest way I could think of but I can't observe the data in such an efficient way, so I must improve it.\n",
    "\n",
    "I also had the possibility to do it individually for the 82 columns but I decided to do it thinking about the following question."
   ]
  },
  {
   "cell_type": "code",
   "execution_count": 11,
   "id": "0a8f97d6",
   "metadata": {},
   "outputs": [],
   "source": [
    "#col1 = icfesdata['PUNT_GLOBAL'].value_counts()\n",
    "#col2 = icfesdata['PERCENTIL_GLOBAL'].value_counts()\n",
    "#col3 = icfesdata['COLE_NATURALEZA'].value_counts()\n",
    "#col4 = icfesdata['ESTU_TIPOREMUNERACION'].value_counts()\n",
    "#col5 = icfesdata['FAMI_TIENECOMPUTADOR'].value_counts()\n",
    "#col6 = icfesdata['FAMI_TIENEINTERNET'].value_counts()\n",
    "#col7 = icfesdata['FAMI_ESTRATOVIVIENDA'].value_counts()\n",
    "#col8 = icfesdata['ESTU_DEPTO_RESIDE'].value_counts()\n",
    "#col9 = icfesdata['ESTU_GENERO'].value_counts()"
   ]
  },
  {
   "attachments": {},
   "cell_type": "markdown",
   "id": "c38781d7",
   "metadata": {},
   "source": [
    "4. If we look at the overall score, the most important columns are the overall score and overall percentile, along with other columns with which we want to correlate them. These would be the gender, the stratum, whether the student works, whether the student has a computer and whether the student has access to the Internet, if the school is public or private and the department of residence.\n"
   ]
  },
  {
   "cell_type": "code",
   "execution_count": 12,
   "id": "6ae643f1",
   "metadata": {},
   "outputs": [
    {
     "data": {
      "text/plain": [
       "count    546212.000000\n",
       "mean        246.186464\n",
       "std          51.386858\n",
       "min           0.000000\n",
       "25%         207.000000\n",
       "50%         243.000000\n",
       "75%         282.000000\n",
       "max         477.000000\n",
       "Name: PUNT_GLOBAL, dtype: float64"
      ]
     },
     "execution_count": 12,
     "metadata": {},
     "output_type": "execute_result"
    }
   ],
   "source": [
    "icfesdata['PUNT_GLOBAL'].describe()"
   ]
  },
  {
   "cell_type": "code",
   "execution_count": 13,
   "id": "197e6ce4",
   "metadata": {},
   "outputs": [
    {
     "data": {
      "image/png": "[encoded data removed]",
      "text/plain": [
       "<Figure size 640x480 with 1 Axes>"
      ]
     },
     "metadata": {},
     "output_type": "display_data"
    }
   ],
   "source": [
    "fig1 = sns.histplot(data=icfesdata, x='PUNT_GLOBAL', binwidth=25, kde=True, color='royalblue')\n",
    "fig1.set(xlabel=\"Global Score\", ylabel = \"Counts\")\n",
    "plt.show()"
   ]
  },
  {
   "cell_type": "code",
   "execution_count": 14,
   "id": "2555d7ac",
   "metadata": {},
   "outputs": [
    {
     "data": {
      "image/png": "[encoded data removed]",
      "text/plain": [
       "<Figure size 640x480 with 1 Axes>"
      ]
     },
     "metadata": {},
     "output_type": "display_data"
    }
   ],
   "source": [
    "fig2 = sns.boxplot(x=icfesdata[\"PUNT_GLOBAL\"], color='royalblue')\n",
    "fig2.set(xlabel=\"Global Score\")\n",
    "plt.show()"
   ]
  },
  {
   "cell_type": "code",
   "execution_count": 15,
   "id": "ee67b363",
   "metadata": {},
   "outputs": [
    {
     "data": {
      "text/plain": [
       "OFICIAL       416011\n",
       "NO OFICIAL    130201\n",
       "Name: COLE_NATURALEZA, dtype: int64"
      ]
     },
     "execution_count": 15,
     "metadata": {},
     "output_type": "execute_result"
    }
   ],
   "source": [
    "colnat=icfesdata['COLE_NATURALEZA'].value_counts()\n",
    "colnat"
   ]
  },
  {
   "cell_type": "code",
   "execution_count": 16,
   "id": "1f99ff3f",
   "metadata": {},
   "outputs": [
    {
     "name": "stdout",
     "output_type": "stream",
     "text": [
      "NO OFICIAL    263.390788\n",
      "OFICIAL       240.801943\n",
      "dtype: float64\n"
     ]
    }
   ],
   "source": [
    "colnat1 = icfesdata.groupby('COLE_NATURALEZA')['PUNT_GLOBAL'].sum()/icfesdata['COLE_NATURALEZA'].value_counts()\n",
    "print(colnat1)"
   ]
  },
  {
   "cell_type": "code",
   "execution_count": 17,
   "id": "a312abff",
   "metadata": {},
   "outputs": [
    {
     "data": {
      "image/png": "[encoded data removed]",
      "text/plain": [
       "<Figure size 640x480 with 1 Axes>"
      ]
     },
     "metadata": {},
     "output_type": "display_data"
    }
   ],
   "source": [
    "fig3 = sns.barplot(data=icfesdata, x=\"COLE_NATURALEZA\", y=\"PUNT_GLOBAL\")\n",
    "fig3.set(xlabel=\"School Nature\", ylabel=\"Average Global Score\")\n",
    "plt.show()"
   ]
  },
  {
   "cell_type": "code",
   "execution_count": 18,
   "id": "1067b606",
   "metadata": {},
   "outputs": [
    {
     "name": "stdout",
     "output_type": "stream",
     "text": [
      "NO OFICIAL    53.796561\n",
      "OFICIAL       49.607893\n",
      "dtype: float64\n"
     ]
    }
   ],
   "source": [
    "colpuntmat = icfesdata.groupby('COLE_NATURALEZA')['PUNT_MATEMATICAS'].sum()/icfesdata['COLE_NATURALEZA'].value_counts()\n",
    "print(colpuntmat)\n",
    "#colpuntmat.plot.bar(xlabel='Nature of the school', ylabel='Average maths score')"
   ]
  },
  {
   "cell_type": "code",
   "execution_count": 19,
   "id": "7319448e",
   "metadata": {},
   "outputs": [
    {
     "name": "stdout",
     "output_type": "stream",
     "text": [
      "NO OFICIAL    54.112326\n",
      "OFICIAL       46.632152\n",
      "dtype: float64\n"
     ]
    }
   ],
   "source": [
    "colpunteng = icfesdata.groupby('COLE_NATURALEZA')['PUNT_INGLES'].sum()/icfesdata['COLE_NATURALEZA'].value_counts()\n",
    "print(colpunteng)\n",
    "#colpunteng.plot.bar(xlabel='Nature of the school', ylabel='Average english score')"
   ]
  },
  {
   "cell_type": "code",
   "execution_count": 20,
   "id": "a859d62b",
   "metadata": {},
   "outputs": [
    {
     "name": "stdout",
     "output_type": "stream",
     "text": [
      "NO OFICIAL    49.958879\n",
      "OFICIAL       45.055849\n",
      "dtype: float64\n"
     ]
    }
   ],
   "source": [
    "colpuntsoc = icfesdata.groupby('COLE_NATURALEZA')['PUNT_SOCIALES_CIUDADANAS'].sum()/icfesdata['COLE_NATURALEZA'].value_counts()\n",
    "print(colpuntsoc)\n",
    "#colpuntsoc.plot.bar(xlabel='Nature of the school', ylabel='Average social sciences score')"
   ]
  },
  {
   "cell_type": "code",
   "execution_count": 21,
   "id": "b8f4603f",
   "metadata": {},
   "outputs": [
    {
     "name": "stdout",
     "output_type": "stream",
     "text": [
      "NO OFICIAL    55.191243\n",
      "OFICIAL       51.207759\n",
      "dtype: float64\n"
     ]
    }
   ],
   "source": [
    "colpuntlec = icfesdata.groupby('COLE_NATURALEZA')['PUNT_LECTURA_CRITICA'].sum()/icfesdata['COLE_NATURALEZA'].value_counts()\n",
    "print(colpuntlec)\n",
    "#colpuntmat.plot.bar(xlabel='Nature of the school', ylabel='Average critical reading score')"
   ]
  },
  {
   "cell_type": "code",
   "execution_count": 22,
   "id": "e46c97d9",
   "metadata": {},
   "outputs": [
    {
     "name": "stdout",
     "output_type": "stream",
     "text": [
      "NO OFICIAL    51.288055\n",
      "OFICIAL       47.279180\n",
      "dtype: float64\n"
     ]
    }
   ],
   "source": [
    "colpuntcnat = icfesdata.groupby('COLE_NATURALEZA')['PUNT_C_NATURALES'].sum()/icfesdata['COLE_NATURALEZA'].value_counts()\n",
    "print(colpuntcnat)\n",
    "#colpuntmat.plot.bar(xlabel='Nature of the school', ylabel='Average natural sciences score')"
   ]
  },
  {
   "attachments": {},
   "cell_type": "markdown",
   "id": "adcb9b84",
   "metadata": {},
   "source": [
    "# Insights"
   ]
  },
  {
   "attachments": {},
   "cell_type": "markdown",
   "id": "4675d441",
   "metadata": {},
   "source": [
    "+ The overall score has a Gaussian distribution with a mean of 246.18 and a standard deviation of 51.38 points. \n",
    "+ In 2019, the maximum score was 477 and the minimum score was 0.\n",
    "+ Of the 546212 students who took the exam 416011 belong to public or official institutions and 130201 belong to private or unofficial institutions.\n",
    "+ The average global score in the public institutions was below the average with 240.80 points, while the average global score in the private institutions was 263.39 points. So there's a difference of 8.57% between the average global scores of private and public institutions.\n",
    "+ Five areas of knowledge are evaluated: mathematics, English, critical reading, natural sciences and social sciences. In all five areas, the average score is higher in private institutions. The area with the greatest percentage difference is English, with 13.8% between private and public institutions.\n"
   ]
  },
  {
   "attachments": {},
   "cell_type": "markdown",
   "id": "d581f530",
   "metadata": {},
   "source": [
    "# Data Cleaning"
   ]
  },
  {
   "attachments": {},
   "cell_type": "markdown",
   "id": "49a20d46",
   "metadata": {},
   "source": [
    "The following columns with different codes are irrelevant."
   ]
  },
  {
   "cell_type": "code",
   "execution_count": 23,
   "id": "2810c3a1",
   "metadata": {},
   "outputs": [],
   "source": [
    "icfesdata1 = icfesdata.drop(['ESTU_TIPODOCUMENTO', 'PERIODO', 'ESTU_CONSECUTIVO', 'ESTU_ESTUDIANTE', \n",
    "                             'ESTU_COD_RESIDE_DEPTO', 'ESTU_COD_RESIDE_MCPIO', 'COLE_CODIGO_ICFES',\n",
    "                             'COLE_COD_DANE_ESTABLECIMIENTO', 'COLE_COD_DANE_SEDE','COLE_COD_MCPIO_UBICACION',\n",
    "                             'COLE_COD_DEPTO_UBICACION', 'ESTU_COD_MCPIO_PRESENTACION', 'ESTU_COD_DEPTO_PRESENTACION',\n",
    "                             'ESTU_NSE_ESTABLECIMIENTO', 'ESTU_INSE_INDIVIDUAL', 'ESTU_NSE_INDIVIDUAL',\n",
    "                             'COLE_NOMBRE_SEDE', 'COLE_SEDE_PRINCIPAL','ESTU_ESTADOINVESTIGACION'],\n",
    "                            axis=1)"
   ]
  },
  {
   "cell_type": "code",
   "execution_count": 24,
   "id": "01301e41",
   "metadata": {},
   "outputs": [
    {
     "name": "stdout",
     "output_type": "stream",
     "text": [
      "<class 'pandas.core.frame.DataFrame'>\n",
      "RangeIndex: 546212 entries, 0 to 546211\n",
      "Data columns (total 63 columns):\n",
      " #   Column                         Non-Null Count   Dtype  \n",
      "---  ------                         --------------   -----  \n",
      " 0   ESTU_NACIONALIDAD              546212 non-null  object \n",
      " 1   ESTU_GENERO                    546212 non-null  object \n",
      " 2   ESTU_FECHANACIMIENTO           546212 non-null  object \n",
      " 3   ESTU_TIENEETNIA                546212 non-null  object \n",
      " 4   ESTU_PAIS_RESIDE               546212 non-null  object \n",
      " 5   ESTU_ETNIA                     546212 non-null  object \n",
      " 6   ESTU_DEPTO_RESIDE              545835 non-null  object \n",
      " 7   ESTU_MCPIO_RESIDE              545835 non-null  object \n",
      " 8   FAMI_ESTRATOVIVIENDA           546186 non-null  object \n",
      " 9   FAMI_PERSONASHOGAR             537749 non-null  object \n",
      " 10  FAMI_CUARTOSHOGAR              539794 non-null  object \n",
      " 11  FAMI_EDUCACIONPADRE            537920 non-null  object \n",
      " 12  FAMI_EDUCACIONMADRE            525253 non-null  object \n",
      " 13  FAMI_TRABAJOLABORPADRE         538081 non-null  object \n",
      " 14  FAMI_TRABAJOLABORMADRE         538743 non-null  object \n",
      " 15  FAMI_TIENEINTERNET             537875 non-null  object \n",
      " 16  FAMI_TIENESERVICIOTV           523932 non-null  object \n",
      " 17  FAMI_TIENECOMPUTADOR           538027 non-null  object \n",
      " 18  FAMI_TIENELAVADORA             538569 non-null  object \n",
      " 19  FAMI_TIENEHORNOMICROOGAS       537582 non-null  object \n",
      " 20  FAMI_TIENEAUTOMOVIL            538006 non-null  object \n",
      " 21  FAMI_TIENEMOTOCICLETA          537395 non-null  object \n",
      " 22  FAMI_TIENECONSOLAVIDEOJUEGOS   538487 non-null  object \n",
      " 23  FAMI_NUMLIBROS                 537558 non-null  object \n",
      " 24  FAMI_COMELECHEDERIVADOS        523907 non-null  object \n",
      " 25  FAMI_COMECARNEPESCADOHUEVO     536587 non-null  object \n",
      " 26  FAMI_COMECEREALFRUTOSLEGUMBRE  523880 non-null  object \n",
      " 27  FAMI_SITUACIONECONOMICA        537953 non-null  object \n",
      " 28  ESTU_DEDICACIONLECTURADIARIA   545585 non-null  object \n",
      " 29  ESTU_DEDICACIONINTERNET        515914 non-null  object \n",
      " 30  ESTU_HORASSEMANATRABAJA        545831 non-null  object \n",
      " 31  ESTU_TIPOREMUNERACION          530704 non-null  object \n",
      " 32  COLE_NOMBRE_ESTABLECIMIENTO    546212 non-null  object \n",
      " 33  COLE_GENERO                    546212 non-null  object \n",
      " 34  COLE_NATURALEZA                546212 non-null  object \n",
      " 35  COLE_CALENDARIO                546212 non-null  object \n",
      " 36  COLE_BILINGUE                  546212 non-null  object \n",
      " 37  COLE_CARACTER                  532464 non-null  object \n",
      " 38  COLE_AREA_UBICACION            546212 non-null  object \n",
      " 39  COLE_JORNADA                   546212 non-null  object \n",
      " 40  COLE_MCPIO_UBICACION           546212 non-null  object \n",
      " 41  COLE_DEPTO_UBICACION           546212 non-null  object \n",
      " 42  ESTU_PRIVADO_LIBERTAD          546212 non-null  object \n",
      " 43  ESTU_MCPIO_PRESENTACION        546212 non-null  object \n",
      " 44  ESTU_DEPTO_PRESENTACION        546212 non-null  object \n",
      " 45  PUNT_LECTURA_CRITICA           546212 non-null  int64  \n",
      " 46  PERCENTIL_LECTURA_CRITICA      546212 non-null  int64  \n",
      " 47  DESEMP_LECTURA_CRITICA         546212 non-null  int64  \n",
      " 48  PUNT_MATEMATICAS               546212 non-null  int64  \n",
      " 49  PERCENTIL_MATEMATICAS          546212 non-null  int64  \n",
      " 50  DESEMP_MATEMATICAS             546212 non-null  int64  \n",
      " 51  PUNT_C_NATURALES               546212 non-null  int64  \n",
      " 52  PERCENTIL_C_NATURALES          546212 non-null  int64  \n",
      " 53  DESEMP_C_NATURALES             546212 non-null  int64  \n",
      " 54  PUNT_SOCIALES_CIUDADANAS       546212 non-null  int64  \n",
      " 55  PERCENTIL_SOCIALES_CIUDADANAS  546212 non-null  int64  \n",
      " 56  DESEMP_SOCIALES_CIUDADANAS     546212 non-null  int64  \n",
      " 57  PUNT_INGLES                    546193 non-null  float64\n",
      " 58  PERCENTIL_INGLES               546212 non-null  int64  \n",
      " 59  DESEMP_INGLES                  546212 non-null  object \n",
      " 60  PUNT_GLOBAL                    546212 non-null  int64  \n",
      " 61  PERCENTIL_GLOBAL               546212 non-null  object \n",
      " 62  ESTU_GENERACION-E              546212 non-null  object \n",
      "dtypes: float64(1), int64(14), object(48)\n",
      "memory usage: 262.5+ MB\n"
     ]
    }
   ],
   "source": [
    "icfesdata1.info()\n",
    "#icfesdata1 is the dataframe without irrelevant columns"
   ]
  },
  {
   "attachments": {},
   "cell_type": "markdown",
   "id": "ed9423fa",
   "metadata": {},
   "source": [
    "Looking for missing values in columns and rows."
   ]
  },
  {
   "cell_type": "code",
   "execution_count": 25,
   "id": "7445df10",
   "metadata": {},
   "outputs": [],
   "source": [
    "missing_columns=icfesdata1.isnull().sum()\n",
    "missing_rows=icfesdata1.isnull().sum(axis = 1)"
   ]
  },
  {
   "cell_type": "code",
   "execution_count": 26,
   "id": "a030ef55",
   "metadata": {},
   "outputs": [
    {
     "data": {
      "text/plain": [
       "56651"
      ]
     },
     "execution_count": 26,
     "metadata": {},
     "output_type": "execute_result"
    }
   ],
   "source": [
    "icfesdata1.isnull().any(axis=1).sum()"
   ]
  },
  {
   "attachments": {},
   "cell_type": "markdown",
   "id": "a566a8d5",
   "metadata": {},
   "source": [
    "We could directly delete these 56651 rows which are equivalent to 10.37% of the dataset rows, but for example for the column 'ESTU_DEDICACIONINTERNET' you could replace some NaN by -."
   ]
  },
  {
   "cell_type": "code",
   "execution_count": 27,
   "id": "5287450b",
   "metadata": {},
   "outputs": [
    {
     "data": {
      "text/plain": [
       "Entre 1 y 3 horas        157557\n",
       "Entre 30 y 60 minutos    134383\n",
       "Más de 3 horas           100134\n",
       "30 minutos o menos        90517\n",
       "No Navega Internet        30697\n",
       "-                          2626\n",
       "Name: ESTU_DEDICACIONINTERNET, dtype: int64"
      ]
     },
     "execution_count": 27,
     "metadata": {},
     "output_type": "execute_result"
    }
   ],
   "source": [
    "icfesdata1['ESTU_DEDICACIONINTERNET'].value_counts()"
   ]
  },
  {
   "cell_type": "code",
   "execution_count": 28,
   "id": "05f20cf6",
   "metadata": {},
   "outputs": [],
   "source": [
    "icfesdata2=icfesdata1.replace({'ESTU_DEDICACIONINTERNET':{np.nan:'-'}})\n",
    "#icfesdata2 is the dataframe with replacement in one column 'ESTU_DEDICACIONINTERNET'"
   ]
  },
  {
   "cell_type": "code",
   "execution_count": 29,
   "id": "f03f4df3",
   "metadata": {},
   "outputs": [
    {
     "data": {
      "text/plain": [
       "Entre 1 y 3 horas        157557\n",
       "Entre 30 y 60 minutos    134383\n",
       "Más de 3 horas           100134\n",
       "30 minutos o menos        90517\n",
       "-                         32924\n",
       "No Navega Internet        30697\n",
       "Name: ESTU_DEDICACIONINTERNET, dtype: int64"
      ]
     },
     "execution_count": 29,
     "metadata": {},
     "output_type": "execute_result"
    }
   ],
   "source": [
    "icfesdata2['ESTU_DEDICACIONINTERNET'].value_counts()"
   ]
  },
  {
   "attachments": {},
   "cell_type": "markdown",
   "id": "b70acafe",
   "metadata": {},
   "source": [
    "Finally, I delete 56557 rows."
   ]
  },
  {
   "cell_type": "code",
   "execution_count": 30,
   "id": "c17aca9f",
   "metadata": {},
   "outputs": [],
   "source": [
    "icfesready=icfesdata2.dropna()\n",
    "#icfesready is the dataframe eliminating 10,37% of the columns"
   ]
  },
  {
   "attachments": {},
   "cell_type": "markdown",
   "id": "f77b0614",
   "metadata": {},
   "source": [
    "And check that there isn´t missing values."
   ]
  },
  {
   "cell_type": "code",
   "execution_count": 31,
   "id": "4d20382c",
   "metadata": {},
   "outputs": [
    {
     "data": {
      "text/plain": [
       "0"
      ]
     },
     "execution_count": 31,
     "metadata": {},
     "output_type": "execute_result"
    }
   ],
   "source": [
    "icfesready.isnull().any(axis=1).sum()"
   ]
  },
  {
   "attachments": {},
   "cell_type": "markdown",
   "id": "aa46a81f",
   "metadata": {},
   "source": [
    "BACK TO DATA CLEANING :("
   ]
  },
  {
   "cell_type": "code",
   "execution_count": 32,
   "id": "412a0d44",
   "metadata": {},
   "outputs": [
    {
     "data": {
      "text/plain": [
       "Si    295409\n",
       "No    233827\n",
       "-       8791\n",
       "Name: FAMI_TIENECOMPUTADOR, dtype: int64"
      ]
     },
     "execution_count": 32,
     "metadata": {},
     "output_type": "execute_result"
    }
   ],
   "source": [
    "icfesdata1['FAMI_TIENECOMPUTADOR'].value_counts()"
   ]
  },
  {
   "cell_type": "code",
   "execution_count": 33,
   "id": "1c12a0ad",
   "metadata": {},
   "outputs": [
    {
     "data": {
      "text/plain": [
       "Si    314042\n",
       "No    201199\n",
       "-      22634\n",
       "Name: FAMI_TIENEINTERNET, dtype: int64"
      ]
     },
     "execution_count": 33,
     "metadata": {},
     "output_type": "execute_result"
    }
   ],
   "source": [
    "icfesdata1['FAMI_TIENEINTERNET'].value_counts()"
   ]
  },
  {
   "cell_type": "code",
   "execution_count": 34,
   "id": "0d48829c",
   "metadata": {},
   "outputs": [],
   "source": [
    "icfesdata3=icfesdata1.replace({'ESTU_DEDICACIONINTERNET':{np.nan:'-'}, 'FAMI_COMECEREALFRUTOSLEGUMBRE':{np.nan:'-'},\n",
    "                              'FAMI_COMELECHEDERIVADOS':{np.nan:'-'},'FAMI_TIENESERVICIOTV':{np.nan:'-'},\n",
    "                              'FAMI_EDUCACIONMADRE':{np.nan:'-'},'ESTU_TIPOREMUNERACION':{np.nan:'-'},\n",
    "                              'COLE_CARACTER':{np.nan:'-'},'FAMI_COMECARNEPESCADOHUEVO':{np.nan:'-'},\n",
    "                              'ESTU_DEDICACIONLECTURADIARIA':{np.nan:'-'},'FAMI_NUMLIBROS':{np.nan:'-'},\n",
    "                              'FAMI_TIENEHORNOMICROOGAS':{np.nan:'-'},'FAMI_PERSONASHOGAR':{np.nan:'-'},\n",
    "                              'FAMI_TIENEINTERNET':{np.nan:'-'},'FAMI_EDUCACIONPADRE':{np.nan:'-'},\n",
    "                              'FAMI_SITUACIONECONOMICA':{np.nan:'-'},'FAMI_TIENEAUTOMOVIL':{np.nan:'-'},\n",
    "                              'FAMI_TIENECOMPUTADOR':{np.nan:'-'},'FAMI_TRABAJOLABORPADRE':{np.nan:'-'},\n",
    "                              'FAMI_TIENECONSOLAVIDEOJUEGOS':{np.nan:'-'},'FAMI_TIENELAVADORA':{np.nan:'-'},\n",
    "                              'FAMI_CUARTOSHOGAR':{np.nan:'-'},'FAMI_TIENEMOTOCICLETA':{np.nan:'-'},\n",
    "                              'FAMI_TRABAJOLABORMADRE':{np.nan:'-'}, 'ESTU_HORASSEMANATRABAJA':{np.nan:'-'}}\n",
    "                              )"
   ]
  },
  {
   "cell_type": "code",
   "execution_count": 35,
   "id": "4fea7144",
   "metadata": {},
   "outputs": [
    {
     "data": {
      "text/plain": [
       "396"
      ]
     },
     "execution_count": 35,
     "metadata": {},
     "output_type": "execute_result"
    }
   ],
   "source": [
    "icfesdata3.isnull().any(axis=1).sum()\n",
    "#icfesdata3 is the dataframe without irrelevant columns and replacement of nan to - in\n",
    "#24 columns type obj that represents socioeconomical variables"
   ]
  },
  {
   "cell_type": "code",
   "execution_count": 36,
   "id": "d95a6334",
   "metadata": {},
   "outputs": [],
   "source": [
    "missing_columns1 = icfesdata3.isnull().sum()"
   ]
  },
  {
   "attachments": {},
   "cell_type": "markdown",
   "id": "577fd03c",
   "metadata": {},
   "source": [
    "Despues de estos reemplazos, las únicas columnas con valores nulos son ESTU_DEPTO_RESIDE, ESTU_MCPIO_RESIDE y PUNT_INGLES. Son 396 filas que equivalen al 0,07% del dataframe."
   ]
  },
  {
   "cell_type": "code",
   "execution_count": 37,
   "id": "33c649ee",
   "metadata": {},
   "outputs": [],
   "source": [
    "icfesclean=icfesdata3.dropna()\n",
    "#icfesclean is the dataframe without missing values after \n",
    "#replacement in 24 columns and eliminating 0,07% of the rows"
   ]
  },
  {
   "cell_type": "code",
   "execution_count": 38,
   "id": "9ae05f95",
   "metadata": {},
   "outputs": [
    {
     "data": {
      "text/plain": [
       "0"
      ]
     },
     "execution_count": 38,
     "metadata": {},
     "output_type": "execute_result"
    }
   ],
   "source": [
    "icfesclean.isnull().any(axis=1).sum()"
   ]
  },
  {
   "attachments": {},
   "cell_type": "markdown",
   "id": "4b4f22ad",
   "metadata": {},
   "source": [
    "# Data Exploration with ready dataset"
   ]
  },
  {
   "cell_type": "code",
   "execution_count": 78,
   "id": "0db666f3",
   "metadata": {},
   "outputs": [
    {
     "data": {
      "text/plain": [
       "count    489655.000000\n",
       "mean        248.414847\n",
       "std          50.969646\n",
       "min         108.000000\n",
       "25%         210.000000\n",
       "50%         245.000000\n",
       "75%         284.000000\n",
       "max         477.000000\n",
       "Name: PUNT_GLOBAL, dtype: float64"
      ]
     },
     "execution_count": 78,
     "metadata": {},
     "output_type": "execute_result"
    }
   ],
   "source": [
    "icfesready['PUNT_GLOBAL'].describe()"
   ]
  },
  {
   "cell_type": "code",
   "execution_count": 79,
   "id": "234f4495",
   "metadata": {},
   "outputs": [
    {
     "data": {
      "image/png": "[encoded data removed]",
      "text/plain": [
       "<Figure size 640x480 with 1 Axes>"
      ]
     },
     "metadata": {},
     "output_type": "display_data"
    }
   ],
   "source": [
    "fig1 = sns.histplot(data=icfesdata, x='PUNT_GLOBAL', binwidth=25, kde=True, color='mediumpurple')\n",
    "fig1.set(xlabel=\"Global Score\", ylabel = \"Counts\")\n",
    "plt.show()"
   ]
  },
  {
   "cell_type": "code",
   "execution_count": 80,
   "id": "09c5c92c",
   "metadata": {},
   "outputs": [
    {
     "data": {
      "image/png": "[encoded data removed]",
      "text/plain": [
       "<Figure size 640x480 with 1 Axes>"
      ]
     },
     "metadata": {},
     "output_type": "display_data"
    }
   ],
   "source": [
    "fig2 = sns.boxplot(x=icfesready[\"PUNT_GLOBAL\"], color='mediumpurple')\n",
    "fig2.set(xlabel=\"Global Score\")\n",
    "plt.show()"
   ]
  },
  {
   "cell_type": "code",
   "execution_count": 42,
   "id": "f4dea6fe",
   "metadata": {},
   "outputs": [],
   "source": [
    "# colnat=icfesready['COLE_NATURALEZA'].value_counts()\n",
    "# colnat"
   ]
  },
  {
   "cell_type": "code",
   "execution_count": 43,
   "id": "8ac63cfc",
   "metadata": {},
   "outputs": [],
   "source": [
    "# colnat1 = icfesready.groupby('COLE_NATURALEZA')['PUNT_GLOBAL'].sum()/icfesready['COLE_NATURALEZA'].value_counts()\n",
    "# print(colnat1)"
   ]
  },
  {
   "cell_type": "code",
   "execution_count": 44,
   "id": "aa8b3682",
   "metadata": {},
   "outputs": [],
   "source": [
    "# fig3 = sns.barplot(data=icfesready, x=\"COLE_NATURALEZA\", y=\"PUNT_GLOBAL\")\n",
    "# fig3.set(xlabel=\"School Nature\", ylabel=\"Average Global Score\")\n",
    "# plt.show()"
   ]
  },
  {
   "cell_type": "code",
   "execution_count": 45,
   "id": "a0179ebc",
   "metadata": {},
   "outputs": [],
   "source": [
    "# colpuntmat = icfesready.groupby('COLE_NATURALEZA')['PUNT_MATEMATICAS'].sum()/icfesready['COLE_NATURALEZA'].value_counts()\n",
    "# print(colpuntmat)"
   ]
  },
  {
   "cell_type": "code",
   "execution_count": 46,
   "id": "6183b623",
   "metadata": {},
   "outputs": [],
   "source": [
    "# colpunteng = icfesready.groupby('COLE_NATURALEZA')['PUNT_INGLES'].sum()/icfesready['COLE_NATURALEZA'].value_counts()\n",
    "# print(colpunteng)"
   ]
  },
  {
   "cell_type": "code",
   "execution_count": 47,
   "id": "50b40416",
   "metadata": {},
   "outputs": [],
   "source": [
    "# colpuntlec = icfesready.groupby('COLE_NATURALEZA')['PUNT_LECTURA_CRITICA'].sum()/icfesready['COLE_NATURALEZA'].value_counts()\n",
    "# print(colpuntlec)"
   ]
  },
  {
   "cell_type": "code",
   "execution_count": 48,
   "id": "01487e2a",
   "metadata": {},
   "outputs": [],
   "source": [
    "# colpuntsoc = icfesready.groupby('COLE_NATURALEZA')['PUNT_SOCIALES_CIUDADANAS'].sum()/icfesready['COLE_NATURALEZA'].value_counts()\n",
    "# print(colpuntsoc)"
   ]
  },
  {
   "cell_type": "code",
   "execution_count": 49,
   "id": "bbad93ef",
   "metadata": {},
   "outputs": [],
   "source": [
    "# colpuntcnat = icfesready.groupby('COLE_NATURALEZA')['PUNT_C_NATURALES'].sum()/icfesready['COLE_NATURALEZA'].value_counts()\n",
    "# print(colpuntcnat)"
   ]
  },
  {
   "cell_type": "code",
   "execution_count": 50,
   "id": "ed00e9fb",
   "metadata": {},
   "outputs": [],
   "source": [
    "# fig4 = sns.barplot(data=icfesready, x=\"COLE_NATURALEZA\",  y=\"PUNT_GLOBAL\", hue=\"FAMI_TIENECOMPUTADOR\")\n",
    "# fig4.set(xlabel=\"School Nature\", ylabel=\"Average Global Score\")\n",
    "# plt.show()"
   ]
  },
  {
   "cell_type": "code",
   "execution_count": 51,
   "id": "b7b27454",
   "metadata": {},
   "outputs": [],
   "source": [
    "# fig5 = sns.barplot(data=icfesready, x=\"COLE_NATURALEZA\",  y=\"PUNT_GLOBAL\", hue=\"FAMI_TIENEINTERNET\")\n",
    "# fig5.set(xlabel=\"School Nature\", ylabel=\"Average Global Score\")\n",
    "# plt.show()"
   ]
  },
  {
   "cell_type": "code",
   "execution_count": 52,
   "id": "83b6ced3",
   "metadata": {},
   "outputs": [],
   "source": [
    "# sns.histplot(data=icfesready, x=\"FAMI_TIENECOMPUTADOR\", hue=\"COLE_NATURALEZA\", multiple=\"stack\")"
   ]
  },
  {
   "cell_type": "code",
   "execution_count": 53,
   "id": "df4b80f2",
   "metadata": {},
   "outputs": [],
   "source": [
    "# icfesdatanum=icfesready.select_dtypes(['int64'])"
   ]
  },
  {
   "cell_type": "code",
   "execution_count": 54,
   "id": "a42f50d8",
   "metadata": {},
   "outputs": [],
   "source": [
    "# corr = icfesready.corr()\n",
    "# plt.subplots(figsize=(15,10))\n",
    "# sns.heatmap(corr, xticklabels=corr.columns,yticklabels=corr.columns, annot=True)"
   ]
  },
  {
   "attachments": {},
   "cell_type": "markdown",
   "id": "7c7d2b90",
   "metadata": {},
   "source": [
    "By deleting 56557 rows, the lower overall scores from 0 to 107 were deleted."
   ]
  },
  {
   "cell_type": "code",
   "execution_count": 55,
   "id": "e2527cce",
   "metadata": {},
   "outputs": [
    {
     "name": "stdout",
     "output_type": "stream",
     "text": [
      "The data contains 96 rows and 63 columns.\n"
     ]
    }
   ],
   "source": [
    "icfescero=icfesdata1[icfesdata1['PUNT_GLOBAL'] <= 107]\n",
    "datashape = icfescero.shape\n",
    "print('The data contains', datashape[0], 'rows and', datashape[1], 'columns.')"
   ]
  },
  {
   "attachments": {},
   "cell_type": "markdown",
   "id": "5a99bc11",
   "metadata": {},
   "source": [
    "¡GO BACK TO DATA CLEANING!"
   ]
  },
  {
   "attachments": {},
   "cell_type": "markdown",
   "id": "434ded14",
   "metadata": {},
   "source": [
    "# Data exploring with clean dataset"
   ]
  },
  {
   "cell_type": "code",
   "execution_count": 56,
   "id": "39d6b889",
   "metadata": {},
   "outputs": [
    {
     "data": {
      "text/plain": [
       "count    545816.000000\n",
       "mean        246.185539\n",
       "std          51.385127\n",
       "min           0.000000\n",
       "25%         207.000000\n",
       "50%         243.000000\n",
       "75%         282.000000\n",
       "max         477.000000\n",
       "Name: PUNT_GLOBAL, dtype: float64"
      ]
     },
     "execution_count": 56,
     "metadata": {},
     "output_type": "execute_result"
    }
   ],
   "source": [
    "icfesclean['PUNT_GLOBAL'].describe()"
   ]
  },
  {
   "cell_type": "code",
   "execution_count": 57,
   "id": "1bfbd748",
   "metadata": {},
   "outputs": [
    {
     "data": {
      "image/png": "[encoded data removed]",
      "text/plain": [
       "<Figure size 640x480 with 1 Axes>"
      ]
     },
     "metadata": {},
     "output_type": "display_data"
    }
   ],
   "source": [
    "fig1 = sns.histplot(data=icfesclean, x='PUNT_GLOBAL', binwidth=25, kde=True, color='purple')\n",
    "fig1.set(xlabel=\"Global Score\", ylabel = \"Counts\")\n",
    "plt.show()"
   ]
  },
  {
   "cell_type": "code",
   "execution_count": 58,
   "id": "cf1ec684",
   "metadata": {},
   "outputs": [
    {
     "data": {
      "image/png": "[encoded data removed]",
      "text/plain": [
       "<Figure size 640x480 with 1 Axes>"
      ]
     },
     "metadata": {},
     "output_type": "display_data"
    }
   ],
   "source": [
    "fig2 = sns.boxplot(x=icfesclean[\"PUNT_GLOBAL\"], color='mediumvioletred')\n",
    "fig2.set(xlabel=\"Global Score\")\n",
    "plt.show()"
   ]
  },
  {
   "cell_type": "code",
   "execution_count": 59,
   "id": "f2064a74",
   "metadata": {},
   "outputs": [
    {
     "data": {
      "text/plain": [
       "OFICIAL       415760\n",
       "NO OFICIAL    130056\n",
       "Name: COLE_NATURALEZA, dtype: int64"
      ]
     },
     "execution_count": 59,
     "metadata": {},
     "output_type": "execute_result"
    }
   ],
   "source": [
    "colnat=icfesclean['COLE_NATURALEZA'].value_counts()\n",
    "colnat"
   ]
  },
  {
   "cell_type": "code",
   "execution_count": 60,
   "id": "0703de89",
   "metadata": {},
   "outputs": [
    {
     "name": "stdout",
     "output_type": "stream",
     "text": [
      "NO OFICIAL    263.373262\n",
      "OFICIAL       240.808959\n",
      "dtype: float64\n"
     ]
    }
   ],
   "source": [
    "colnat1 = icfesclean.groupby('COLE_NATURALEZA')['PUNT_GLOBAL'].sum()/icfesclean['COLE_NATURALEZA'].value_counts()\n",
    "print(colnat1)"
   ]
  },
  {
   "cell_type": "code",
   "execution_count": 61,
   "id": "6f66125e",
   "metadata": {},
   "outputs": [
    {
     "data": {
      "image/png": "[encoded data removed]",
      "text/plain": [
       "<Figure size 640x480 with 1 Axes>"
      ]
     },
     "metadata": {},
     "output_type": "display_data"
    }
   ],
   "source": [
    "fig3 = sns.barplot(data=icfesclean, x=\"COLE_NATURALEZA\", y=\"PUNT_GLOBAL\", palette='rocket')\n",
    "fig3.set(xlabel=\"School Nature\", ylabel=\"Average Global Score\")\n",
    "plt.show()"
   ]
  },
  {
   "cell_type": "code",
   "execution_count": 62,
   "id": "d4052141",
   "metadata": {},
   "outputs": [
    {
     "name": "stdout",
     "output_type": "stream",
     "text": [
      "NO OFICIAL    53.792389\n",
      "OFICIAL       49.609207\n",
      "dtype: float64\n"
     ]
    }
   ],
   "source": [
    "colpuntmat = icfesclean.groupby('COLE_NATURALEZA')['PUNT_MATEMATICAS'].sum()/icfesclean['COLE_NATURALEZA'].value_counts()\n",
    "print(colpuntmat)"
   ]
  },
  {
   "cell_type": "code",
   "execution_count": 63,
   "id": "5e597208",
   "metadata": {},
   "outputs": [
    {
     "name": "stdout",
     "output_type": "stream",
     "text": [
      "NO OFICIAL    54.105039\n",
      "OFICIAL       46.634556\n",
      "dtype: float64\n"
     ]
    }
   ],
   "source": [
    "colpunteng = icfesclean.groupby('COLE_NATURALEZA')['PUNT_INGLES'].sum()/icfesclean['COLE_NATURALEZA'].value_counts()\n",
    "print(colpunteng)"
   ]
  },
  {
   "cell_type": "code",
   "execution_count": 64,
   "id": "91a67565",
   "metadata": {},
   "outputs": [
    {
     "name": "stdout",
     "output_type": "stream",
     "text": [
      "NO OFICIAL    55.188496\n",
      "OFICIAL       51.209448\n",
      "dtype: float64\n"
     ]
    }
   ],
   "source": [
    "colpuntlec = icfesclean.groupby('COLE_NATURALEZA')['PUNT_LECTURA_CRITICA'].sum()/icfesclean['COLE_NATURALEZA'].value_counts()\n",
    "print(colpuntlec)"
   ]
  },
  {
   "cell_type": "code",
   "execution_count": 65,
   "id": "fc562192",
   "metadata": {},
   "outputs": [
    {
     "name": "stdout",
     "output_type": "stream",
     "text": [
      "NO OFICIAL    49.956188\n",
      "OFICIAL       45.057141\n",
      "dtype: float64\n"
     ]
    }
   ],
   "source": [
    "colpuntsoc = icfesclean.groupby('COLE_NATURALEZA')['PUNT_SOCIALES_CIUDADANAS'].sum()/icfesclean['COLE_NATURALEZA'].value_counts()\n",
    "print(colpuntsoc)"
   ]
  },
  {
   "cell_type": "code",
   "execution_count": 66,
   "id": "2ffa0a78",
   "metadata": {},
   "outputs": [
    {
     "name": "stdout",
     "output_type": "stream",
     "text": [
      "NO OFICIAL    51.285008\n",
      "OFICIAL       47.280660\n",
      "dtype: float64\n"
     ]
    }
   ],
   "source": [
    "colpuntcnat = icfesclean.groupby('COLE_NATURALEZA')['PUNT_C_NATURALES'].sum()/icfesclean['COLE_NATURALEZA'].value_counts()\n",
    "print(colpuntcnat)"
   ]
  },
  {
   "cell_type": "code",
   "execution_count": 67,
   "id": "803dac7d",
   "metadata": {},
   "outputs": [
    {
     "name": "stderr",
     "output_type": "stream",
     "text": [
      "C:\\Users\\ynino\\AppData\\Local\\Temp\\ipykernel_2848\\2369097394.py:1: FutureWarning: Passing a set as an indexer is deprecated and will raise in a future version. Use a list instead.\n",
      "  puntajes = icfesclean[{'PUNT_LECTURA_CRITICA', 'PUNT_MATEMATICAS', 'PUNT_C_NATURALES',\n"
     ]
    }
   ],
   "source": [
    "puntajes = icfesclean[{'PUNT_LECTURA_CRITICA', 'PUNT_MATEMATICAS', 'PUNT_C_NATURALES', \n",
    "                       'PUNT_SOCIALES_CIUDADANAS', 'PUNT_INGLES', 'PUNT_GLOBAL'}]"
   ]
  },
  {
   "cell_type": "code",
   "execution_count": 68,
   "id": "60228233",
   "metadata": {},
   "outputs": [
    {
     "data": {
      "text/plain": [
       "<Axes: >"
      ]
     },
     "execution_count": 68,
     "metadata": {},
     "output_type": "execute_result"
    },
    {
     "data": {
      "image/png": "[encoded data removed]",
      "text/plain": [
       "<Figure size 600x400 with 2 Axes>"
      ]
     },
     "metadata": {},
     "output_type": "display_data"
    }
   ],
   "source": [
    "corr = puntajes.corr()\n",
    "plt.subplots(figsize=(6,4))\n",
    "sns.heatmap(corr, xticklabels=corr.columns,yticklabels=corr.columns, annot=True, cmap='rocket')"
   ]
  },
  {
   "cell_type": "code",
   "execution_count": 69,
   "id": "58db3336",
   "metadata": {},
   "outputs": [
    {
     "data": {
      "text/plain": [
       "COLE_NATURALEZA  FAMI_TIENECOMPUTADOR\n",
       "NO OFICIAL       Si                       96069\n",
       "                 No                       29559\n",
       "                 -                         4428\n",
       "OFICIAL          No                      204109\n",
       "                 Si                      199119\n",
       "                 -                        12532\n",
       "Name: FAMI_TIENECOMPUTADOR, dtype: int64"
      ]
     },
     "execution_count": 69,
     "metadata": {},
     "output_type": "execute_result"
    }
   ],
   "source": [
    "icfesclean.groupby('COLE_NATURALEZA')['FAMI_TIENECOMPUTADOR'].value_counts()"
   ]
  },
  {
   "cell_type": "code",
   "execution_count": 70,
   "id": "469dcce9",
   "metadata": {},
   "outputs": [
    {
     "data": {
      "text/plain": [
       "COLE_NATURALEZA  FAMI_TIENECOMPUTADOR\n",
       "NO OFICIAL       -                       234.624435\n",
       "                 No                      230.770831\n",
       "                 Si                      274.729632\n",
       "OFICIAL          -                       228.619454\n",
       "                 No                      230.002200\n",
       "                 Si                      252.653715\n",
       "Name: PUNT_GLOBAL, dtype: float64"
      ]
     },
     "execution_count": 70,
     "metadata": {},
     "output_type": "execute_result"
    }
   ],
   "source": [
    "icfesclean.groupby(['COLE_NATURALEZA','FAMI_TIENECOMPUTADOR'])['PUNT_GLOBAL'].mean()\n",
    "#/icfesclean['COLE_NATURALEZA'].value_counts()\n"
   ]
  },
  {
   "cell_type": "code",
   "execution_count": 71,
   "id": "cde3625e",
   "metadata": {},
   "outputs": [
    {
     "data": {
      "image/png": "[encoded data removed]",
      "text/plain": [
       "<Figure size 640x480 with 1 Axes>"
      ]
     },
     "metadata": {},
     "output_type": "display_data"
    }
   ],
   "source": [
    "fig4 = sns.barplot(data=icfesclean, x=\"COLE_NATURALEZA\",  y=\"PUNT_GLOBAL\", \n",
    "                   hue=\"FAMI_TIENECOMPUTADOR\", palette='rocket')\n",
    "fig4.set(xlabel=\"School Nature\", ylabel=\"Average Global Score\")\n",
    "#for i in fig4.containers:\n",
    "#    fig4.bar_label(i,)\n",
    "plt.show()"
   ]
  },
  {
   "cell_type": "code",
   "execution_count": 72,
   "id": "31c369b7",
   "metadata": {},
   "outputs": [
    {
     "data": {
      "text/plain": [
       "COLE_NATURALEZA  FAMI_TIENEINTERNET\n",
       "NO OFICIAL       Si                    102149\n",
       "                 No                     20336\n",
       "                 -                       7571\n",
       "OFICIAL          Si                    211671\n",
       "                 No                    180722\n",
       "                 -                      23367\n",
       "Name: FAMI_TIENEINTERNET, dtype: int64"
      ]
     },
     "execution_count": 72,
     "metadata": {},
     "output_type": "execute_result"
    }
   ],
   "source": [
    "icfesclean.groupby('COLE_NATURALEZA')['FAMI_TIENEINTERNET'].value_counts()"
   ]
  },
  {
   "cell_type": "code",
   "execution_count": 73,
   "id": "ed830911",
   "metadata": {},
   "outputs": [
    {
     "data": {
      "text/plain": [
       "COLE_NATURALEZA  FAMI_TIENEINTERNET\n",
       "NO OFICIAL       -                     224.713116\n",
       "                 No                    227.703924\n",
       "                 Si                    273.339759\n",
       "OFICIAL          -                     218.916549\n",
       "                 No                    229.811927\n",
       "                 Si                    252.614855\n",
       "Name: PUNT_GLOBAL, dtype: float64"
      ]
     },
     "execution_count": 73,
     "metadata": {},
     "output_type": "execute_result"
    }
   ],
   "source": [
    "icfesclean.groupby(['COLE_NATURALEZA','FAMI_TIENEINTERNET'])['PUNT_GLOBAL'].mean()"
   ]
  },
  {
   "cell_type": "code",
   "execution_count": 74,
   "id": "74cdce3c",
   "metadata": {},
   "outputs": [
    {
     "data": {
      "image/png": "[encoded data removed]",
      "text/plain": [
       "<Figure size 640x480 with 1 Axes>"
      ]
     },
     "metadata": {},
     "output_type": "display_data"
    }
   ],
   "source": [
    "fig5 = sns.barplot(data=icfesclean, x=\"COLE_NATURALEZA\",  y=\"PUNT_GLOBAL\", \n",
    "                   hue=\"FAMI_TIENEINTERNET\", palette='rocket')\n",
    "fig5.set(xlabel=\"School Nature\", ylabel=\"Average Global Score\")\n",
    "plt.show()"
   ]
  },
  {
   "cell_type": "code",
   "execution_count": 75,
   "id": "42bd2a31",
   "metadata": {},
   "outputs": [
    {
     "data": {
      "text/plain": [
       "COLE_NATURALEZA  FAMI_ESTRATOVIVIENDA\n",
       "NO OFICIAL       -                       226.099536\n",
       "                 Estrato 1               231.872271\n",
       "                 Estrato 2               255.839149\n",
       "                 Estrato 3               276.027031\n",
       "                 Estrato 4               294.051860\n",
       "                 Estrato 5               296.098502\n",
       "                 Estrato 6               293.055205\n",
       "                 Sin Estrato             214.251136\n",
       "OFICIAL          -                       219.839848\n",
       "                 Estrato 1               236.488609\n",
       "                 Estrato 2               248.254194\n",
       "                 Estrato 3               253.022874\n",
       "                 Estrato 4               234.992013\n",
       "                 Estrato 5               216.139816\n",
       "                 Estrato 6               201.407305\n",
       "                 Sin Estrato             205.552353\n",
       "Name: PUNT_GLOBAL, dtype: float64"
      ]
     },
     "execution_count": 75,
     "metadata": {},
     "output_type": "execute_result"
    }
   ],
   "source": [
    "icfesclean.groupby(['COLE_NATURALEZA','FAMI_ESTRATOVIVIENDA'])['PUNT_GLOBAL'].mean()"
   ]
  },
  {
   "cell_type": "code",
   "execution_count": 76,
   "id": "c924e66b",
   "metadata": {},
   "outputs": [
    {
     "data": {
      "image/png": "[encoded data removed]",
      "text/plain": [
       "<Figure size 640x480 with 1 Axes>"
      ]
     },
     "metadata": {},
     "output_type": "display_data"
    }
   ],
   "source": [
    "fig6 = sns.barplot(data=icfesclean, x=\"FAMI_ESTRATOVIVIENDA\",  y=\"PUNT_GLOBAL\", \n",
    "                   hue=\"COLE_NATURALEZA\", palette='rocket')\n",
    "fig6.set(xlabel=\"School Nature\", ylabel=\"Average Global Score\")\n",
    "plt.show()"
   ]
  },
  {
   "attachments": {},
   "cell_type": "markdown",
   "id": "63e7c08c",
   "metadata": {},
   "source": [
    "# Insights\n",
    "\n",
    "For the Saber 11 tests, 2019, calendar A.\n",
    "+ The overall score of the Saber 11 tests has a normal distribution, with a mean of 246 points and a standard deviation of 51 points.\n",
    "+ The minimum score was 0 points and the maximum was 477 points.\n",
    "+ Of the 545816 records (students) kept, 415760 belonged to public institutions and 130056 to private institutions.\n",
    "+ The average score in the public institutions was 241 points, below the average.\n",
    "+ The average score in private institutions was 263 points.\n",
    "+ Of the five areas evaluated: mathematics, critical reading, social and citizenship sciences, natural sciences and English, the one with the greatest difference between public and private institutions was English, with 54 and 47 points on average, respectively.\n",
    "+ Taking into account whether the student's family has a computer:\n",
    "Of the 130056 students in private institutions 74% have a computer, 23% do not and 3% do not answer.\n",
    "Of the 415760 students in public institutions, 48% have a computer, 49% do not have one and 3% do not respond.\n",
    "+ Among students in private institutions, there is a difference of 44 points in the average global score between students who do (275) and those who do not (231) have a computer.\n",
    "+ In students in public institutions there is a difference of 23 points in the average global score between students who do (253) and those who do not (230) have a computer.\n",
    "+ Taking into account whether the student's family has internet:\n",
    "Of the 130056 students in private institutions 78% have internet, 16% do not and 6% do not respond.\n",
    "Of the 415760 students in public institutions 51% have internet, 43% do not and 6% do not respond.\n",
    "+ Among students in private institutions there is a difference of 46 points in the average global score between students who do (274) and those who do not (228) have internet.\n",
    "+ Among students in public institutions, there is a difference of 23 points in the average global score between students who do (253) and those who do not (230) have internet.\n",
    "\n"
   ]
  },
  {
   "attachments": {},
   "cell_type": "markdown",
   "id": "212b52d9",
   "metadata": {},
   "source": [
    "POSTPANDEMIC\n",
    "+ In 2020 A (PANDEMIA) the mean was 248, standard deviation 48. Minimum score 0 and maximum score 500.\n",
    "+ The difference between public (241) and private (271) schools was 30 points.\n",
    "+ For students in private institutions there is a difference of 44 points in the average global score between students who do (275) and those who do not (231) have a computer.\n",
    "+ For students in public institutions, there is a difference of 23 points in the average global score between students who do (253) and those who do not (230) have a computer.\n",
    "+ Taking into account whether the student's family has a computer:\n",
    "Of the 111381 students in private institutions 81% have computer, 15% do not have and 4% do not respond.\n",
    "Of the 39,0047 students in public institutions, 52% have a computer, 44% do not have one and 4% do not respond.\n",
    "+ Among students in private institutions, there is a difference of 45 points in the average global score between students who do (279) and those who do not (234) have a computer.\n",
    "+ In students in public institutions there is a difference of 23 points in the average global score between students who do (253) and those who do not (230) have a computer.\n",
    "+ Taking into account whether the student's family has internet:\n",
    "Of the 111381 students in private institutions 88% have internet, 9% do not and 3% do not respond.\n",
    "Of the 390047 students in public institutions 62% have internet, 35% do not and 3% do not respond.\n",
    "+ Among students in private institutions there is a difference of 47 points in the average global score between students who do (276) and those who do not (229) have internet.\n",
    "+ Among students in public institutions, there is a difference of 25 points in the average global score between students who do (251) and those who do not (226) have internet.\n"
   ]
  }
 ],
 "metadata": {
  "kernelspec": {
   "display_name": "homeworks",
   "language": "python",
   "name": "python3"
  },
  "language_info": {
   "codemirror_mode": {
    "name": "ipython",
    "version": 3
   },
   "file_extension": ".py",
   "mimetype": "text/x-python",
   "name": "python",
   "nbconvert_exporter": "python",
   "pygments_lexer": "ipython3",
   "version": "3.11.2"
  },
  "vscode": {
   "interpreter": {
    "hash": "49e69bb4716113a91a66de989ea890dd75964954426edc72a646151dbf8fe411"
   }
  }
 },
 "nbformat": 4,
 "nbformat_minor": 5
}
