{
 "cells": [
  {
   "cell_type": "markdown",
   "id": "03532c24",
   "metadata": {},
   "source": [
    "# Data Exploration"
   ]
  },
  {
   "cell_type": "markdown",
   "id": "bf715247",
   "metadata": {},
   "source": [
    "Hey! During this first step, please, take a look at the data set and just explore it, find the types of each column and try to find interesting things. Don't worry about data cleaning. Just exploration for now.  \n",
    "You can answer the following questions:\n",
    "- How many columns there are\n",
    "- The type of each column\n",
    "- The different values that a column can take\n",
    "- Which do you think are the most important columns? If we are looking at the overall score.\n",
    "\n",
    "Go wild! (Remember, so far, only exploration).\n"
   ]
  },
  {
   "attachments": {},
   "cell_type": "markdown",
   "id": "fc50721c",
   "metadata": {},
   "source": [
    "1. ¿How many columns there are?"
   ]
  },
  {
   "cell_type": "code",
   "execution_count": 1,
   "id": "be2bde8d",
   "metadata": {},
   "outputs": [],
   "source": [
    "import pandas as pd\n",
    "import numpy as np\n",
    "import seaborn as sns\n",
    "import matplotlib\n",
    "import matplotlib.pyplot as plt"
   ]
  },
  {
   "cell_type": "code",
   "execution_count": 2,
   "id": "46376140",
   "metadata": {},
   "outputs": [
    {
     "name": "stdout",
     "output_type": "stream",
     "text": [
      "<class 'pandas.core.frame.DataFrame'>\n",
      "RangeIndex: 504872 entries, 0 to 504871\n",
      "Data columns (total 81 columns):\n",
      " #   Column                         Non-Null Count   Dtype  \n",
      "---  ------                         --------------   -----  \n",
      " 0   ESTU_TIPODOCUMENTO             504872 non-null  object \n",
      " 1   ESTU_NACIONALIDAD              504872 non-null  object \n",
      " 2   ESTU_GENERO                    504864 non-null  object \n",
      " 3   ESTU_FECHANACIMIENTO           504872 non-null  object \n",
      " 4   PERIODO                        504872 non-null  int64  \n",
      " 5   ESTU_CONSECUTIVO               504872 non-null  object \n",
      " 6   ESTU_ESTUDIANTE                504872 non-null  object \n",
      " 7   ESTU_PAIS_RESIDE               504872 non-null  object \n",
      " 8   ESTU_TIENEETNIA                501879 non-null  object \n",
      " 9   ESTU_DEPTO_RESIDE              504870 non-null  object \n",
      " 10  ESTU_COD_RESIDE_DEPTO          504870 non-null  float64\n",
      " 11  ESTU_MCPIO_RESIDE              504870 non-null  object \n",
      " 12  ESTU_COD_RESIDE_MCPIO          504870 non-null  float64\n",
      " 13  FAMI_ESTRATOVIVIENDA           487920 non-null  object \n",
      " 14  FAMI_PERSONASHOGAR             489699 non-null  object \n",
      " 15  FAMI_CUARTOSHOGAR              489033 non-null  object \n",
      " 16  FAMI_EDUCACIONPADRE            491882 non-null  object \n",
      " 17  FAMI_EDUCACIONMADRE            491386 non-null  object \n",
      " 18  FAMI_TRABAJOLABORPADRE         485181 non-null  object \n",
      " 19  FAMI_TRABAJOLABORMADRE         487273 non-null  object \n",
      " 20  FAMI_TIENEINTERNET             491207 non-null  object \n",
      " 21  FAMI_TIENESERVICIOTV           489433 non-null  object \n",
      " 22  FAMI_TIENECOMPUTADOR           484678 non-null  object \n",
      " 23  FAMI_TIENELAVADORA             488640 non-null  object \n",
      " 24  FAMI_TIENEHORNOMICROOGAS       487730 non-null  object \n",
      " 25  FAMI_TIENEAUTOMOVIL            487063 non-null  object \n",
      " 26  FAMI_TIENEMOTOCICLETA          487786 non-null  object \n",
      " 27  FAMI_TIENECONSOLAVIDEOJUEGOS   487394 non-null  object \n",
      " 28  FAMI_NUMLIBROS                 491029 non-null  object \n",
      " 29  FAMI_COMELECHEDERIVADOS        491244 non-null  object \n",
      " 30  FAMI_COMECARNEPESCADOHUEVO     489566 non-null  object \n",
      " 31  FAMI_COMECEREALFRUTOSLEGUMBRE  484609 non-null  object \n",
      " 32  FAMI_SITUACIONECONOMICA        488558 non-null  object \n",
      " 33  ESTU_DEDICACIONLECTURADIARIA   490391 non-null  object \n",
      " 34  ESTU_DEDICACIONINTERNET        490246 non-null  object \n",
      " 35  ESTU_HORASSEMANATRABAJA        487888 non-null  object \n",
      " 36  ESTU_TIPOREMUNERACION          487226 non-null  object \n",
      " 37  COLE_CODIGO_ICFES              504872 non-null  int64  \n",
      " 38  COLE_COD_DANE_ESTABLECIMIENTO  504872 non-null  int64  \n",
      " 39  COLE_NOMBRE_ESTABLECIMIENTO    504872 non-null  object \n",
      " 40  COLE_GENERO                    504872 non-null  object \n",
      " 41  COLE_NATURALEZA                504872 non-null  object \n",
      " 42  COLE_CALENDARIO                504872 non-null  object \n",
      " 43  COLE_BILINGUE                  421865 non-null  object \n",
      " 44  COLE_CARACTER                  490695 non-null  object \n",
      " 45  COLE_COD_DANE_SEDE             504872 non-null  int64  \n",
      " 46  COLE_NOMBRE_SEDE               504872 non-null  object \n",
      " 47  COLE_SEDE_PRINCIPAL            504872 non-null  object \n",
      " 48  COLE_AREA_UBICACION            504872 non-null  object \n",
      " 49  COLE_JORNADA                   504872 non-null  object \n",
      " 50  COLE_COD_MCPIO_UBICACION       504872 non-null  int64  \n",
      " 51  COLE_MCPIO_UBICACION           504872 non-null  object \n",
      " 52  COLE_COD_DEPTO_UBICACION       504872 non-null  int64  \n",
      " 53  COLE_DEPTO_UBICACION           504872 non-null  object \n",
      " 54  ESTU_PRIVADO_LIBERTAD          504872 non-null  object \n",
      " 55  ESTU_COD_MCPIO_PRESENTACION    504664 non-null  float64\n",
      " 56  ESTU_MCPIO_PRESENTACION        504664 non-null  object \n",
      " 57  ESTU_DEPTO_PRESENTACION        504664 non-null  object \n",
      " 58  ESTU_COD_DEPTO_PRESENTACION    504664 non-null  float64\n",
      " 59  PUNT_LECTURA_CRITICA           504872 non-null  int64  \n",
      " 60  PERCENTIL_LECTURA_CRITICA      504872 non-null  int64  \n",
      " 61  DESEMP_LECTURA_CRITICA         504872 non-null  int64  \n",
      " 62  PUNT_MATEMATICAS               504872 non-null  int64  \n",
      " 63  PERCENTIL_MATEMATICAS          504872 non-null  int64  \n",
      " 64  DESEMP_MATEMATICAS             504872 non-null  int64  \n",
      " 65  PUNT_C_NATURALES               504872 non-null  int64  \n",
      " 66  PERCENTIL_C_NATURALES          504872 non-null  int64  \n",
      " 67  DESEMP_C_NATURALES             504872 non-null  int64  \n",
      " 68  PUNT_SOCIALES_CIUDADANAS       504872 non-null  int64  \n",
      " 69  PERCENTIL_SOCIALES_CIUDADANAS  504872 non-null  int64  \n",
      " 70  DESEMP_SOCIALES_CIUDADANAS     504872 non-null  int64  \n",
      " 71  PUNT_INGLES                    504538 non-null  float64\n",
      " 72  PERCENTIL_INGLES               504872 non-null  int64  \n",
      " 73  DESEMP_INGLES                  504872 non-null  object \n",
      " 74  PUNT_GLOBAL                    504872 non-null  int64  \n",
      " 75  PERCENTIL_GLOBAL               504872 non-null  int64  \n",
      " 76  ESTU_INSE_INDIVIDUAL           490927 non-null  float64\n",
      " 77  ESTU_NSE_INDIVIDUAL            490927 non-null  float64\n",
      " 78  ESTU_NSE_ESTABLECIMIENTO       504823 non-null  float64\n",
      " 79  ESTU_ESTADOINVESTIGACION       504872 non-null  object \n",
      " 80  ESTU_GENERACION-E              504872 non-null  object \n",
      "dtypes: float64(8), int64(21), object(52)\n",
      "memory usage: 312.0+ MB\n"
     ]
    }
   ],
   "source": [
    "icfesdata = pd.read_csv('Saber_11__2020-2.csv')\n",
    "icfesdata.info()"
   ]
  },
  {
   "attachments": {},
   "cell_type": "markdown",
   "id": "3a3212e0",
   "metadata": {},
   "source": [
    "The column ESTU_ETNIA doesn't appears here."
   ]
  },
  {
   "cell_type": "code",
   "execution_count": 3,
   "id": "6f3fea2c",
   "metadata": {},
   "outputs": [
    {
     "name": "stdout",
     "output_type": "stream",
     "text": [
      "The data contains 504872 rows and 81 columns.\n"
     ]
    }
   ],
   "source": [
    "datashape = icfesdata.shape\n",
    "print('The data contains', datashape[0], 'rows and', datashape[1], 'columns.')"
   ]
  },
  {
   "attachments": {},
   "cell_type": "markdown",
   "id": "4dc86d51",
   "metadata": {},
   "source": [
    "2. The type of each column"
   ]
  },
  {
   "cell_type": "code",
   "execution_count": 125,
   "id": "d48c0125",
   "metadata": {},
   "outputs": [
    {
     "data": {
      "text/plain": [
       "Si    293510\n",
       "No    191168\n",
       "Name: FAMI_TIENECOMPUTADOR, dtype: int64"
      ]
     },
     "execution_count": 125,
     "metadata": {},
     "output_type": "execute_result"
    }
   ],
   "source": [
    "icfesdata['FAMI_TIENECOMPUTADOR'].value_counts()"
   ]
  },
  {
   "cell_type": "code",
   "execution_count": 4,
   "id": "5ec7851f",
   "metadata": {},
   "outputs": [],
   "source": [
    "coltypes = dict(icfesdata.dtypes)\n",
    "#print(coltypes)"
   ]
  },
  {
   "cell_type": "code",
   "execution_count": 5,
   "id": "917fe60b",
   "metadata": {},
   "outputs": [],
   "source": [
    "# coltypes1 = pd.DataFrame([[key, coltypes[key]] for key in coltypes.keys()], columns=['Columns', 'Type'])\n",
    "# coltypes1"
   ]
  },
  {
   "cell_type": "code",
   "execution_count": 6,
   "id": "4b95a30b",
   "metadata": {},
   "outputs": [],
   "source": [
    "# coltypes2 = coltypes1.groupby('Type').count()\n",
    "# print('Of the', datashape[1], 'columns, we have the following number of columns per type of data')\n",
    "# print(coltypes2)"
   ]
  },
  {
   "cell_type": "code",
   "execution_count": 7,
   "metadata": {},
   "outputs": [],
   "source": [
    "# coltypesobj = coltypes1[coltypes1['Type'] == object] \n",
    "# coltypesint = coltypes1[coltypes1['Type'] == 'int64'] \n",
    "# coltypesflt = coltypes1[coltypes1['Type'] == 'float64'] \n",
    "# coltypesflt"
   ]
  },
  {
   "cell_type": "code",
   "execution_count": 8,
   "id": "ccf4766f",
   "metadata": {},
   "outputs": [],
   "source": [
    "coltypesobj = icfesdata.select_dtypes(['float64'])\n",
    "coltypesint = icfesdata.select_dtypes(['int64'])\n",
    "coltypesflt = icfesdata.select_dtypes(['object'])"
   ]
  },
  {
   "attachments": {},
   "cell_type": "markdown",
   "id": "eac0a3db",
   "metadata": {},
   "source": [
    "3. The different values that a column can take"
   ]
  },
  {
   "cell_type": "code",
   "execution_count": 9,
   "id": "6c2eb891",
   "metadata": {},
   "outputs": [],
   "source": [
    "cols = list(icfesdata.columns)\n",
    "#print(cols)"
   ]
  },
  {
   "cell_type": "code",
   "execution_count": 10,
   "id": "2bca7d00",
   "metadata": {},
   "outputs": [],
   "source": [
    "for i in cols:\n",
    "    colvalues = icfesdata[i].value_counts()\n",
    "    #print(colvalues)"
   ]
  },
  {
   "attachments": {},
   "cell_type": "markdown",
   "id": "167eaa9f",
   "metadata": {},
   "source": [
    "In this part I had some difficulties, because I didn't know how to count the occurrences of each column to know which values were registered in a single instruction. I tried with several functions and cycles, some worked but I got a matrix with a million rows because I counted the values of all the columns in each column, others didn't work and this was the simplest way I could think of but I can't observe the data in such an efficient way, so I must improve it.\n",
    "\n",
    "I also had the possibility to do it individually for the 82 columns but I decided to do it thinking about the following question."
   ]
  },
  {
   "cell_type": "code",
   "execution_count": 11,
   "id": "0a8f97d6",
   "metadata": {},
   "outputs": [],
   "source": [
    "#col1 = icfesdata['PUNT_GLOBAL'].value_counts()\n",
    "#col2 = icfesdata['PERCENTIL_GLOBAL'].value_counts()\n",
    "#col3 = icfesdata['COLE_NATURALEZA'].value_counts()\n",
    "#col4 = icfesdata['ESTU_TIPOREMUNERACION'].value_counts()\n",
    "#col5 = icfesdata['FAMI_TIENECOMPUTADOR'].value_counts()\n",
    "#col6 = icfesdata['FAMI_TIENEINTERNET'].value_counts()\n",
    "#col7 = icfesdata['FAMI_ESTRATOVIVIENDA'].value_counts()\n",
    "#col8 = icfesdata['ESTU_DEPTO_RESIDE'].value_counts()\n",
    "#col9 = icfesdata['ESTU_GENERO'].value_counts()"
   ]
  },
  {
   "attachments": {},
   "cell_type": "markdown",
   "id": "c38781d7",
   "metadata": {},
   "source": [
    "4. If we look at the overall score, the most important columns are the overall score and overall percentile, along with other columns with which we want to correlate them. These would be the gender, the stratum, whether the student works, whether the student has a computer and whether the student has access to the Internet, if the school is public or private and the department of residence.\n"
   ]
  },
  {
   "cell_type": "code",
   "execution_count": 12,
   "id": "6ae643f1",
   "metadata": {},
   "outputs": [
    {
     "data": {
      "text/plain": [
       "count    504872.000000\n",
       "mean        248.347102\n",
       "std          48.692523\n",
       "min           0.000000\n",
       "25%         211.000000\n",
       "50%         245.000000\n",
       "75%         282.000000\n",
       "max         500.000000\n",
       "Name: PUNT_GLOBAL, dtype: float64"
      ]
     },
     "execution_count": 12,
     "metadata": {},
     "output_type": "execute_result"
    }
   ],
   "source": [
    "icfesdata['PUNT_GLOBAL'].describe()"
   ]
  },
  {
   "cell_type": "code",
   "execution_count": 13,
   "id": "197e6ce4",
   "metadata": {},
   "outputs": [
    {
     "data": {
      "image/png": "[encoded data removed]",
      "text/plain": [
       "<Figure size 640x480 with 1 Axes>"
      ]
     },
     "metadata": {},
     "output_type": "display_data"
    }
   ],
   "source": [
    "fig1 = sns.histplot(data=icfesdata, x='PUNT_GLOBAL', binwidth=25, kde=True, color='royalblue')\n",
    "fig1.set(xlabel=\"Global Score\", ylabel = \"Counts\")\n",
    "plt.show()"
   ]
  },
  {
   "cell_type": "code",
   "execution_count": 14,
   "id": "2555d7ac",
   "metadata": {},
   "outputs": [
    {
     "data": {
      "image/png": "[encoded data removed]",
      "text/plain": [
       "<Figure size 640x480 with 1 Axes>"
      ]
     },
     "metadata": {},
     "output_type": "display_data"
    }
   ],
   "source": [
    "fig2 = sns.boxplot(x=icfesdata[\"PUNT_GLOBAL\"], color='royalblue')\n",
    "fig2.set(xlabel=\"Global Score\")\n",
    "plt.show()"
   ]
  },
  {
   "cell_type": "code",
   "execution_count": 15,
   "id": "ee67b363",
   "metadata": {},
   "outputs": [
    {
     "data": {
      "text/plain": [
       "OFICIAL       391470\n",
       "NO OFICIAL    113402\n",
       "Name: COLE_NATURALEZA, dtype: int64"
      ]
     },
     "execution_count": 15,
     "metadata": {},
     "output_type": "execute_result"
    }
   ],
   "source": [
    "colnat=icfesdata['COLE_NATURALEZA'].value_counts()\n",
    "colnat"
   ]
  },
  {
   "cell_type": "code",
   "execution_count": 16,
   "id": "1f99ff3f",
   "metadata": {},
   "outputs": [
    {
     "name": "stdout",
     "output_type": "stream",
     "text": [
      "NO OFICIAL    270.838486\n",
      "OFICIAL       241.831742\n",
      "dtype: float64\n"
     ]
    }
   ],
   "source": [
    "colnat1 = icfesdata.groupby('COLE_NATURALEZA')['PUNT_GLOBAL'].sum()/icfesdata['COLE_NATURALEZA'].value_counts()\n",
    "print(colnat1)"
   ]
  },
  {
   "cell_type": "code",
   "execution_count": 17,
   "id": "a312abff",
   "metadata": {},
   "outputs": [
    {
     "data": {
      "image/png": "[encoded data removed]",
      "text/plain": [
       "<Figure size 640x480 with 1 Axes>"
      ]
     },
     "metadata": {},
     "output_type": "display_data"
    }
   ],
   "source": [
    "fig3 = sns.barplot(data=icfesdata, x=\"COLE_NATURALEZA\", y=\"PUNT_GLOBAL\")\n",
    "fig3.set(xlabel=\"School Nature\", ylabel=\"Average Global Score\")\n",
    "plt.show()"
   ]
  },
  {
   "cell_type": "code",
   "execution_count": 18,
   "id": "1067b606",
   "metadata": {},
   "outputs": [
    {
     "name": "stdout",
     "output_type": "stream",
     "text": [
      "NO OFICIAL    55.430425\n",
      "OFICIAL       49.742059\n",
      "dtype: float64\n"
     ]
    }
   ],
   "source": [
    "colpuntmat = icfesdata.groupby('COLE_NATURALEZA')['PUNT_MATEMATICAS'].sum()/icfesdata['COLE_NATURALEZA'].value_counts()\n",
    "print(colpuntmat)\n",
    "#colpuntmat.plot.bar(xlabel='Nature of the school', ylabel='Average maths score')"
   ]
  },
  {
   "cell_type": "code",
   "execution_count": 19,
   "id": "7319448e",
   "metadata": {},
   "outputs": [
    {
     "name": "stdout",
     "output_type": "stream",
     "text": [
      "NO OFICIAL    53.127396\n",
      "OFICIAL       45.034761\n",
      "dtype: float64\n"
     ]
    }
   ],
   "source": [
    "colpunteng = icfesdata.groupby('COLE_NATURALEZA')['PUNT_INGLES'].sum()/icfesdata['COLE_NATURALEZA'].value_counts()\n",
    "print(colpunteng)\n",
    "#colpunteng.plot.bar(xlabel='Nature of the school', ylabel='Average english score')"
   ]
  },
  {
   "cell_type": "code",
   "execution_count": 20,
   "id": "a859d62b",
   "metadata": {},
   "outputs": [
    {
     "name": "stdout",
     "output_type": "stream",
     "text": [
      "NO OFICIAL    53.172396\n",
      "OFICIAL       46.803354\n",
      "dtype: float64\n"
     ]
    }
   ],
   "source": [
    "colpuntsoc = icfesdata.groupby('COLE_NATURALEZA')['PUNT_SOCIALES_CIUDADANAS'].sum()/icfesdata['COLE_NATURALEZA'].value_counts()\n",
    "print(colpuntsoc)\n",
    "#colpuntsoc.plot.bar(xlabel='Nature of the school', ylabel='Average social sciences score')"
   ]
  },
  {
   "cell_type": "code",
   "execution_count": 21,
   "id": "b8f4603f",
   "metadata": {},
   "outputs": [
    {
     "name": "stdout",
     "output_type": "stream",
     "text": [
      "NO OFICIAL    56.080501\n",
      "OFICIAL       51.020152\n",
      "dtype: float64\n"
     ]
    }
   ],
   "source": [
    "colpuntlec = icfesdata.groupby('COLE_NATURALEZA')['PUNT_LECTURA_CRITICA'].sum()/icfesdata['COLE_NATURALEZA'].value_counts()\n",
    "print(colpuntlec)\n",
    "#colpuntmat.plot.bar(xlabel='Nature of the school', ylabel='Average critical reading score')"
   ]
  },
  {
   "cell_type": "code",
   "execution_count": 22,
   "id": "e46c97d9",
   "metadata": {},
   "outputs": [
    {
     "name": "stdout",
     "output_type": "stream",
     "text": [
      "NO OFICIAL    52.333230\n",
      "OFICIAL       46.999287\n",
      "dtype: float64\n"
     ]
    }
   ],
   "source": [
    "colpuntcnat = icfesdata.groupby('COLE_NATURALEZA')['PUNT_C_NATURALES'].sum()/icfesdata['COLE_NATURALEZA'].value_counts()\n",
    "print(colpuntcnat)\n",
    "#colpuntmat.plot.bar(xlabel='Nature of the school', ylabel='Average natural sciences score')"
   ]
  },
  {
   "attachments": {},
   "cell_type": "markdown",
   "id": "adcb9b84",
   "metadata": {},
   "source": [
    "# Insights"
   ]
  },
  {
   "attachments": {},
   "cell_type": "markdown",
   "id": "4675d441",
   "metadata": {},
   "source": [
    "+ The overall score has a Gaussian distribution with a mean of 246.18 and a standard deviation of 51.38 points. \n",
    "+ In 2019, the maximum score was 477 and the minimum score was 0.\n",
    "+ Of the 546212 students who took the exam 416011 belong to public or official institutions and 130201 belong to private or unofficial institutions.\n",
    "+ The average global score in the public institutions was below the average with 240.80 points, while the average global score in the private institutions was 263.39 points. So there's a difference of 8.57% between the average global scores of private and public institutions.\n",
    "+ Five areas of knowledge are evaluated: mathematics, English, critical reading, natural sciences and social sciences. In all five areas, the average score is higher in private institutions. The area with the greatest percentage difference is English, with 13.8% between private and public institutions.\n"
   ]
  },
  {
   "attachments": {},
   "cell_type": "markdown",
   "id": "d581f530",
   "metadata": {},
   "source": [
    "# Data Cleaning"
   ]
  },
  {
   "attachments": {},
   "cell_type": "markdown",
   "id": "49a20d46",
   "metadata": {},
   "source": [
    "The following columns with different codes are irrelevant."
   ]
  },
  {
   "cell_type": "code",
   "execution_count": 23,
   "id": "2810c3a1",
   "metadata": {},
   "outputs": [],
   "source": [
    "icfesdata1 = icfesdata.drop(['ESTU_TIPODOCUMENTO', 'PERIODO', 'ESTU_CONSECUTIVO', 'ESTU_ESTUDIANTE', \n",
    "                             'ESTU_COD_RESIDE_DEPTO', 'ESTU_COD_RESIDE_MCPIO', 'COLE_CODIGO_ICFES',\n",
    "                             'COLE_COD_DANE_ESTABLECIMIENTO', 'COLE_COD_DANE_SEDE','COLE_COD_MCPIO_UBICACION',\n",
    "                             'COLE_COD_DEPTO_UBICACION', 'ESTU_COD_MCPIO_PRESENTACION', 'ESTU_COD_DEPTO_PRESENTACION',\n",
    "                             'ESTU_NSE_ESTABLECIMIENTO', 'ESTU_INSE_INDIVIDUAL', 'ESTU_NSE_INDIVIDUAL',\n",
    "                             'COLE_NOMBRE_SEDE', 'COLE_SEDE_PRINCIPAL','ESTU_ESTADOINVESTIGACION'],\n",
    "                            axis=1)"
   ]
  },
  {
   "cell_type": "code",
   "execution_count": 24,
   "id": "01301e41",
   "metadata": {},
   "outputs": [
    {
     "name": "stdout",
     "output_type": "stream",
     "text": [
      "<class 'pandas.core.frame.DataFrame'>\n",
      "RangeIndex: 504872 entries, 0 to 504871\n",
      "Data columns (total 62 columns):\n",
      " #   Column                         Non-Null Count   Dtype  \n",
      "---  ------                         --------------   -----  \n",
      " 0   ESTU_NACIONALIDAD              504872 non-null  object \n",
      " 1   ESTU_GENERO                    504864 non-null  object \n",
      " 2   ESTU_FECHANACIMIENTO           504872 non-null  object \n",
      " 3   ESTU_PAIS_RESIDE               504872 non-null  object \n",
      " 4   ESTU_TIENEETNIA                501879 non-null  object \n",
      " 5   ESTU_DEPTO_RESIDE              504870 non-null  object \n",
      " 6   ESTU_MCPIO_RESIDE              504870 non-null  object \n",
      " 7   FAMI_ESTRATOVIVIENDA           487920 non-null  object \n",
      " 8   FAMI_PERSONASHOGAR             489699 non-null  object \n",
      " 9   FAMI_CUARTOSHOGAR              489033 non-null  object \n",
      " 10  FAMI_EDUCACIONPADRE            491882 non-null  object \n",
      " 11  FAMI_EDUCACIONMADRE            491386 non-null  object \n",
      " 12  FAMI_TRABAJOLABORPADRE         485181 non-null  object \n",
      " 13  FAMI_TRABAJOLABORMADRE         487273 non-null  object \n",
      " 14  FAMI_TIENEINTERNET             491207 non-null  object \n",
      " 15  FAMI_TIENESERVICIOTV           489433 non-null  object \n",
      " 16  FAMI_TIENECOMPUTADOR           484678 non-null  object \n",
      " 17  FAMI_TIENELAVADORA             488640 non-null  object \n",
      " 18  FAMI_TIENEHORNOMICROOGAS       487730 non-null  object \n",
      " 19  FAMI_TIENEAUTOMOVIL            487063 non-null  object \n",
      " 20  FAMI_TIENEMOTOCICLETA          487786 non-null  object \n",
      " 21  FAMI_TIENECONSOLAVIDEOJUEGOS   487394 non-null  object \n",
      " 22  FAMI_NUMLIBROS                 491029 non-null  object \n",
      " 23  FAMI_COMELECHEDERIVADOS        491244 non-null  object \n",
      " 24  FAMI_COMECARNEPESCADOHUEVO     489566 non-null  object \n",
      " 25  FAMI_COMECEREALFRUTOSLEGUMBRE  484609 non-null  object \n",
      " 26  FAMI_SITUACIONECONOMICA        488558 non-null  object \n",
      " 27  ESTU_DEDICACIONLECTURADIARIA   490391 non-null  object \n",
      " 28  ESTU_DEDICACIONINTERNET        490246 non-null  object \n",
      " 29  ESTU_HORASSEMANATRABAJA        487888 non-null  object \n",
      " 30  ESTU_TIPOREMUNERACION          487226 non-null  object \n",
      " 31  COLE_NOMBRE_ESTABLECIMIENTO    504872 non-null  object \n",
      " 32  COLE_GENERO                    504872 non-null  object \n",
      " 33  COLE_NATURALEZA                504872 non-null  object \n",
      " 34  COLE_CALENDARIO                504872 non-null  object \n",
      " 35  COLE_BILINGUE                  421865 non-null  object \n",
      " 36  COLE_CARACTER                  490695 non-null  object \n",
      " 37  COLE_AREA_UBICACION            504872 non-null  object \n",
      " 38  COLE_JORNADA                   504872 non-null  object \n",
      " 39  COLE_MCPIO_UBICACION           504872 non-null  object \n",
      " 40  COLE_DEPTO_UBICACION           504872 non-null  object \n",
      " 41  ESTU_PRIVADO_LIBERTAD          504872 non-null  object \n",
      " 42  ESTU_MCPIO_PRESENTACION        504664 non-null  object \n",
      " 43  ESTU_DEPTO_PRESENTACION        504664 non-null  object \n",
      " 44  PUNT_LECTURA_CRITICA           504872 non-null  int64  \n",
      " 45  PERCENTIL_LECTURA_CRITICA      504872 non-null  int64  \n",
      " 46  DESEMP_LECTURA_CRITICA         504872 non-null  int64  \n",
      " 47  PUNT_MATEMATICAS               504872 non-null  int64  \n",
      " 48  PERCENTIL_MATEMATICAS          504872 non-null  int64  \n",
      " 49  DESEMP_MATEMATICAS             504872 non-null  int64  \n",
      " 50  PUNT_C_NATURALES               504872 non-null  int64  \n",
      " 51  PERCENTIL_C_NATURALES          504872 non-null  int64  \n",
      " 52  DESEMP_C_NATURALES             504872 non-null  int64  \n",
      " 53  PUNT_SOCIALES_CIUDADANAS       504872 non-null  int64  \n",
      " 54  PERCENTIL_SOCIALES_CIUDADANAS  504872 non-null  int64  \n",
      " 55  DESEMP_SOCIALES_CIUDADANAS     504872 non-null  int64  \n",
      " 56  PUNT_INGLES                    504538 non-null  float64\n",
      " 57  PERCENTIL_INGLES               504872 non-null  int64  \n",
      " 58  DESEMP_INGLES                  504872 non-null  object \n",
      " 59  PUNT_GLOBAL                    504872 non-null  int64  \n",
      " 60  PERCENTIL_GLOBAL               504872 non-null  int64  \n",
      " 61  ESTU_GENERACION-E              504872 non-null  object \n",
      "dtypes: float64(1), int64(15), object(46)\n",
      "memory usage: 238.8+ MB\n"
     ]
    }
   ],
   "source": [
    "icfesdata1.info()\n",
    "#icfesdata1 is the dataframe without irrelevant columns"
   ]
  },
  {
   "attachments": {},
   "cell_type": "markdown",
   "id": "ed9423fa",
   "metadata": {},
   "source": [
    "Looking for missing values in columns and rows."
   ]
  },
  {
   "cell_type": "code",
   "execution_count": 25,
   "id": "7445df10",
   "metadata": {},
   "outputs": [],
   "source": [
    "missing_columns=icfesdata1.isnull().sum()\n",
    "missing_rows=icfesdata1.isnull().sum(axis = 1)"
   ]
  },
  {
   "cell_type": "code",
   "execution_count": 26,
   "id": "a030ef55",
   "metadata": {},
   "outputs": [
    {
     "data": {
      "text/plain": [
       "133046"
      ]
     },
     "execution_count": 26,
     "metadata": {},
     "output_type": "execute_result"
    }
   ],
   "source": [
    "icfesdata1.isnull().any(axis=1).sum()"
   ]
  },
  {
   "attachments": {},
   "cell_type": "markdown",
   "id": "a566a8d5",
   "metadata": {},
   "source": [
    "We could directly delete these 56651 rows which are equivalent to 10.37% of the dataset rows, but for example for the column 'ESTU_DEDICACIONINTERNET' you could replace some NaN by -."
   ]
  },
  {
   "cell_type": "code",
   "execution_count": 27,
   "id": "5287450b",
   "metadata": {},
   "outputs": [
    {
     "data": {
      "text/plain": [
       "Entre 1 y 3 horas        150557\n",
       "Más de 3 horas           134493\n",
       "Entre 30 y 60 minutos    109723\n",
       "30 minutos o menos        66563\n",
       "No Navega Internet        28910\n",
       "Name: ESTU_DEDICACIONINTERNET, dtype: int64"
      ]
     },
     "execution_count": 27,
     "metadata": {},
     "output_type": "execute_result"
    }
   ],
   "source": [
    "icfesdata1['ESTU_DEDICACIONINTERNET'].value_counts()"
   ]
  },
  {
   "cell_type": "code",
   "execution_count": 28,
   "id": "05f20cf6",
   "metadata": {},
   "outputs": [],
   "source": [
    "icfesdata2=icfesdata1.replace({'ESTU_DEDICACIONINTERNET':{np.nan:'-'}})\n",
    "#icfesdata2 is the dataframe with replacement in one column 'ESTU_DEDICACIONINTERNET'"
   ]
  },
  {
   "cell_type": "code",
   "execution_count": 29,
   "id": "f03f4df3",
   "metadata": {},
   "outputs": [
    {
     "data": {
      "text/plain": [
       "Entre 1 y 3 horas        150557\n",
       "Más de 3 horas           134493\n",
       "Entre 30 y 60 minutos    109723\n",
       "30 minutos o menos        66563\n",
       "No Navega Internet        28910\n",
       "-                         14626\n",
       "Name: ESTU_DEDICACIONINTERNET, dtype: int64"
      ]
     },
     "execution_count": 29,
     "metadata": {},
     "output_type": "execute_result"
    }
   ],
   "source": [
    "icfesdata2['ESTU_DEDICACIONINTERNET'].value_counts()"
   ]
  },
  {
   "attachments": {},
   "cell_type": "markdown",
   "id": "b70acafe",
   "metadata": {},
   "source": [
    "Finally, I delete 133046 rows."
   ]
  },
  {
   "cell_type": "code",
   "execution_count": 30,
   "id": "c17aca9f",
   "metadata": {},
   "outputs": [],
   "source": [
    "icfesready=icfesdata2.dropna()\n",
    "#icfesready is the dataframe eliminating 10,37% of the columns"
   ]
  },
  {
   "attachments": {},
   "cell_type": "markdown",
   "id": "f77b0614",
   "metadata": {},
   "source": [
    "And check that there isn´t missing values."
   ]
  },
  {
   "cell_type": "code",
   "execution_count": 31,
   "id": "4d20382c",
   "metadata": {},
   "outputs": [
    {
     "data": {
      "text/plain": [
       "0"
      ]
     },
     "execution_count": 31,
     "metadata": {},
     "output_type": "execute_result"
    }
   ],
   "source": [
    "icfesready.isnull().any(axis=1).sum()"
   ]
  },
  {
   "attachments": {},
   "cell_type": "markdown",
   "id": "aa46a81f",
   "metadata": {},
   "source": [
    "BACK TO DATA CLEANING :("
   ]
  },
  {
   "cell_type": "code",
   "execution_count": 32,
   "id": "412a0d44",
   "metadata": {},
   "outputs": [
    {
     "data": {
      "text/plain": [
       "Si    293510\n",
       "No    191168\n",
       "Name: FAMI_TIENECOMPUTADOR, dtype: int64"
      ]
     },
     "execution_count": 32,
     "metadata": {},
     "output_type": "execute_result"
    }
   ],
   "source": [
    "icfesdata1['FAMI_TIENECOMPUTADOR'].value_counts()"
   ]
  },
  {
   "cell_type": "code",
   "execution_count": 33,
   "id": "1c12a0ad",
   "metadata": {},
   "outputs": [
    {
     "data": {
      "text/plain": [
       "Si    342825\n",
       "No    148382\n",
       "Name: FAMI_TIENEINTERNET, dtype: int64"
      ]
     },
     "execution_count": 33,
     "metadata": {},
     "output_type": "execute_result"
    }
   ],
   "source": [
    "icfesdata1['FAMI_TIENEINTERNET'].value_counts()"
   ]
  },
  {
   "cell_type": "code",
   "execution_count": 79,
   "id": "0d48829c",
   "metadata": {},
   "outputs": [],
   "source": [
    "icfesdata3=icfesdata1.replace({'ESTU_DEDICACIONINTERNET':{np.nan:'-'}, 'FAMI_COMECEREALFRUTOSLEGUMBRE':{np.nan:'-'},\n",
    "                              'FAMI_COMELECHEDERIVADOS':{np.nan:'-'},'FAMI_TIENESERVICIOTV':{np.nan:'-'},\n",
    "                              'FAMI_EDUCACIONMADRE':{np.nan:'-'},'ESTU_TIPOREMUNERACION':{np.nan:'-'},\n",
    "                              'COLE_CARACTER':{np.nan:'-'},'FAMI_COMECARNEPESCADOHUEVO':{np.nan:'-'},\n",
    "                              'ESTU_DEDICACIONLECTURADIARIA':{np.nan:'-'},'FAMI_NUMLIBROS':{np.nan:'-'},\n",
    "                              'FAMI_TIENEHORNOMICROOGAS':{np.nan:'-'},'FAMI_PERSONASHOGAR':{np.nan:'-'},\n",
    "                              'FAMI_TIENEINTERNET':{np.nan:'-'},'FAMI_EDUCACIONPADRE':{np.nan:'-'},\n",
    "                              'FAMI_SITUACIONECONOMICA':{np.nan:'-'},'FAMI_TIENEAUTOMOVIL':{np.nan:'-'},\n",
    "                              'FAMI_TIENECOMPUTADOR':{np.nan:'-'},'FAMI_TRABAJOLABORPADRE':{np.nan:'-'},\n",
    "                              'FAMI_TIENECONSOLAVIDEOJUEGOS':{np.nan:'-'},'FAMI_TIENELAVADORA':{np.nan:'-'},\n",
    "                              'FAMI_CUARTOSHOGAR':{np.nan:'-'},'FAMI_TIENEMOTOCICLETA':{np.nan:'-'},\n",
    "                              'FAMI_TRABAJOLABORMADRE':{np.nan:'-'}, 'ESTU_HORASSEMANATRABAJA':{np.nan:'-'},\n",
    "                              'COLE_BILINGUE':{np.nan:'-'}, 'FAMI_ESTRATOVIVIENDA':{np.nan:'Sin estrato'}}\n",
    "                              )"
   ]
  },
  {
   "cell_type": "code",
   "execution_count": 80,
   "id": "4fea7144",
   "metadata": {},
   "outputs": [
    {
     "data": {
      "text/plain": [
       "3444"
      ]
     },
     "execution_count": 80,
     "metadata": {},
     "output_type": "execute_result"
    }
   ],
   "source": [
    "icfesdata3.isnull().any(axis=1).sum()\n",
    "#icfesdata3 is the dataframe without irrelevant columns and replacement of nan to - in\n",
    "#24 columns type obj that represents socioeconomical variables"
   ]
  },
  {
   "cell_type": "code",
   "execution_count": 82,
   "id": "d95a6334",
   "metadata": {},
   "outputs": [],
   "source": [
    "missing_columns1 = icfesdata3.isnull().sum()"
   ]
  },
  {
   "cell_type": "code",
   "execution_count": 83,
   "id": "33c649ee",
   "metadata": {},
   "outputs": [],
   "source": [
    "icfesclean=icfesdata3.dropna()\n",
    "#icfesclean is the dataframe without missing values after \n",
    "#replacement in 24 columns and eliminating 0,07% of the rows"
   ]
  },
  {
   "cell_type": "code",
   "execution_count": 84,
   "id": "9ae05f95",
   "metadata": {},
   "outputs": [
    {
     "data": {
      "text/plain": [
       "0"
      ]
     },
     "execution_count": 84,
     "metadata": {},
     "output_type": "execute_result"
    }
   ],
   "source": [
    "icfesclean.isnull().any(axis=1).sum()"
   ]
  },
  {
   "attachments": {},
   "cell_type": "markdown",
   "id": "4b4f22ad",
   "metadata": {},
   "source": [
    "# Data Exploration with ready dataset"
   ]
  },
  {
   "cell_type": "code",
   "execution_count": 86,
   "id": "0db666f3",
   "metadata": {},
   "outputs": [],
   "source": [
    "# icfesready['PUNT_GLOBAL'].describe()"
   ]
  },
  {
   "cell_type": "code",
   "execution_count": 87,
   "id": "234f4495",
   "metadata": {},
   "outputs": [],
   "source": [
    "# fig1 = sns.histplot(data=icfesdata, x='PUNT_GLOBAL', binwidth=25, kde=True, color='mediumpurple')\n",
    "# fig1.set(xlabel=\"Global Score\", ylabel = \"Counts\")\n",
    "# plt.show()"
   ]
  },
  {
   "cell_type": "code",
   "execution_count": 88,
   "id": "09c5c92c",
   "metadata": {},
   "outputs": [],
   "source": [
    "# fig2 = sns.boxplot(x=icfesready[\"PUNT_GLOBAL\"], color='mediumpurple')\n",
    "# fig2.set(xlabel=\"Global Score\")\n",
    "# plt.show()"
   ]
  },
  {
   "cell_type": "code",
   "execution_count": 89,
   "id": "f4dea6fe",
   "metadata": {},
   "outputs": [],
   "source": [
    "# colnat=icfesready['COLE_NATURALEZA'].value_counts()\n",
    "# colnat"
   ]
  },
  {
   "cell_type": "code",
   "execution_count": 90,
   "id": "8ac63cfc",
   "metadata": {},
   "outputs": [],
   "source": [
    "# colnat1 = icfesready.groupby('COLE_NATURALEZA')['PUNT_GLOBAL'].sum()/icfesready['COLE_NATURALEZA'].value_counts()\n",
    "# print(colnat1)"
   ]
  },
  {
   "cell_type": "code",
   "execution_count": 91,
   "id": "aa8b3682",
   "metadata": {},
   "outputs": [],
   "source": [
    "# fig3 = sns.barplot(data=icfesready, x=\"COLE_NATURALEZA\", y=\"PUNT_GLOBAL\")\n",
    "# fig3.set(xlabel=\"School Nature\", ylabel=\"Average Global Score\")\n",
    "# plt.show()"
   ]
  },
  {
   "cell_type": "code",
   "execution_count": 92,
   "id": "a0179ebc",
   "metadata": {},
   "outputs": [],
   "source": [
    "# colpuntmat = icfesready.groupby('COLE_NATURALEZA')['PUNT_MATEMATICAS'].sum()/icfesready['COLE_NATURALEZA'].value_counts()\n",
    "# print(colpuntmat)"
   ]
  },
  {
   "cell_type": "code",
   "execution_count": 93,
   "id": "6183b623",
   "metadata": {},
   "outputs": [],
   "source": [
    "# colpunteng = icfesready.groupby('COLE_NATURALEZA')['PUNT_INGLES'].sum()/icfesready['COLE_NATURALEZA'].value_counts()\n",
    "# print(colpunteng)"
   ]
  },
  {
   "cell_type": "code",
   "execution_count": 94,
   "id": "50b40416",
   "metadata": {},
   "outputs": [],
   "source": [
    "# colpuntlec = icfesready.groupby('COLE_NATURALEZA')['PUNT_LECTURA_CRITICA'].sum()/icfesready['COLE_NATURALEZA'].value_counts()\n",
    "# print(colpuntlec)"
   ]
  },
  {
   "cell_type": "code",
   "execution_count": 95,
   "id": "01487e2a",
   "metadata": {},
   "outputs": [],
   "source": [
    "# colpuntsoc = icfesready.groupby('COLE_NATURALEZA')['PUNT_SOCIALES_CIUDADANAS'].sum()/icfesready['COLE_NATURALEZA'].value_counts()\n",
    "# print(colpuntsoc)"
   ]
  },
  {
   "cell_type": "code",
   "execution_count": 96,
   "id": "bbad93ef",
   "metadata": {},
   "outputs": [],
   "source": [
    "# colpuntcnat = icfesready.groupby('COLE_NATURALEZA')['PUNT_C_NATURALES'].sum()/icfesready['COLE_NATURALEZA'].value_counts()\n",
    "# print(colpuntcnat)"
   ]
  },
  {
   "cell_type": "code",
   "execution_count": 97,
   "id": "ed00e9fb",
   "metadata": {},
   "outputs": [],
   "source": [
    "# fig4 = sns.barplot(data=icfesready, x=\"COLE_NATURALEZA\",  y=\"PUNT_GLOBAL\", hue=\"FAMI_TIENECOMPUTADOR\")\n",
    "# fig4.set(xlabel=\"School Nature\", ylabel=\"Average Global Score\")\n",
    "# plt.show()"
   ]
  },
  {
   "cell_type": "code",
   "execution_count": 98,
   "id": "b7b27454",
   "metadata": {},
   "outputs": [],
   "source": [
    "# fig5 = sns.barplot(data=icfesready, x=\"COLE_NATURALEZA\",  y=\"PUNT_GLOBAL\", hue=\"FAMI_TIENEINTERNET\")\n",
    "# fig5.set(xlabel=\"School Nature\", ylabel=\"Average Global Score\")\n",
    "# plt.show()"
   ]
  },
  {
   "cell_type": "code",
   "execution_count": 99,
   "id": "83b6ced3",
   "metadata": {},
   "outputs": [],
   "source": [
    "# sns.histplot(data=icfesready, x=\"FAMI_TIENECOMPUTADOR\", hue=\"COLE_NATURALEZA\", multiple=\"stack\")"
   ]
  },
  {
   "cell_type": "code",
   "execution_count": 100,
   "id": "df4b80f2",
   "metadata": {},
   "outputs": [],
   "source": [
    "# icfesdatanum=icfesready.select_dtypes(['int64'])"
   ]
  },
  {
   "cell_type": "code",
   "execution_count": 101,
   "id": "a42f50d8",
   "metadata": {},
   "outputs": [],
   "source": [
    "# corr = icfesready.corr()\n",
    "# plt.subplots(figsize=(15,10))\n",
    "# sns.heatmap(corr, xticklabels=corr.columns,yticklabels=corr.columns, annot=True)"
   ]
  },
  {
   "attachments": {},
   "cell_type": "markdown",
   "id": "7c7d2b90",
   "metadata": {},
   "source": [
    "By deleting 56557 rows, the lower overall scores from 0 to 107 were deleted."
   ]
  },
  {
   "cell_type": "code",
   "execution_count": 102,
   "id": "e2527cce",
   "metadata": {},
   "outputs": [
    {
     "name": "stdout",
     "output_type": "stream",
     "text": [
      "The data contains 254 rows and 62 columns.\n"
     ]
    }
   ],
   "source": [
    "icfescero=icfesdata1[icfesdata1['PUNT_GLOBAL'] <= 107]\n",
    "datashape = icfescero.shape\n",
    "print('The data contains', datashape[0], 'rows and', datashape[1], 'columns.')"
   ]
  },
  {
   "attachments": {},
   "cell_type": "markdown",
   "id": "5a99bc11",
   "metadata": {},
   "source": [
    "¡GO BACK TO DATA CLEANING!"
   ]
  },
  {
   "attachments": {},
   "cell_type": "markdown",
   "id": "434ded14",
   "metadata": {},
   "source": [
    "# Data exploring with clean dataset"
   ]
  },
  {
   "cell_type": "code",
   "execution_count": 124,
   "id": "de988d14",
   "metadata": {},
   "outputs": [
    {
     "name": "stdout",
     "output_type": "stream",
     "text": [
      "<class 'pandas.core.frame.DataFrame'>\n",
      "Int64Index: 501428 entries, 0 to 504871\n",
      "Data columns (total 62 columns):\n",
      " #   Column                         Non-Null Count   Dtype  \n",
      "---  ------                         --------------   -----  \n",
      " 0   ESTU_NACIONALIDAD              501428 non-null  object \n",
      " 1   ESTU_GENERO                    501428 non-null  object \n",
      " 2   ESTU_FECHANACIMIENTO           501428 non-null  object \n",
      " 3   ESTU_PAIS_RESIDE               501428 non-null  object \n",
      " 4   ESTU_TIENEETNIA                501428 non-null  object \n",
      " 5   ESTU_DEPTO_RESIDE              501428 non-null  object \n",
      " 6   ESTU_MCPIO_RESIDE              501428 non-null  object \n",
      " 7   FAMI_ESTRATOVIVIENDA           501428 non-null  object \n",
      " 8   FAMI_PERSONASHOGAR             501428 non-null  object \n",
      " 9   FAMI_CUARTOSHOGAR              501428 non-null  object \n",
      " 10  FAMI_EDUCACIONPADRE            501428 non-null  object \n",
      " 11  FAMI_EDUCACIONMADRE            501428 non-null  object \n",
      " 12  FAMI_TRABAJOLABORPADRE         501428 non-null  object \n",
      " 13  FAMI_TRABAJOLABORMADRE         501428 non-null  object \n",
      " 14  FAMI_TIENEINTERNET             501428 non-null  object \n",
      " 15  FAMI_TIENESERVICIOTV           501428 non-null  object \n",
      " 16  FAMI_TIENECOMPUTADOR           501428 non-null  object \n",
      " 17  FAMI_TIENELAVADORA             501428 non-null  object \n",
      " 18  FAMI_TIENEHORNOMICROOGAS       501428 non-null  object \n",
      " 19  FAMI_TIENEAUTOMOVIL            501428 non-null  object \n",
      " 20  FAMI_TIENEMOTOCICLETA          501428 non-null  object \n",
      " 21  FAMI_TIENECONSOLAVIDEOJUEGOS   501428 non-null  object \n",
      " 22  FAMI_NUMLIBROS                 501428 non-null  object \n",
      " 23  FAMI_COMELECHEDERIVADOS        501428 non-null  object \n",
      " 24  FAMI_COMECARNEPESCADOHUEVO     501428 non-null  object \n",
      " 25  FAMI_COMECEREALFRUTOSLEGUMBRE  501428 non-null  object \n",
      " 26  FAMI_SITUACIONECONOMICA        501428 non-null  object \n",
      " 27  ESTU_DEDICACIONLECTURADIARIA   501428 non-null  object \n",
      " 28  ESTU_DEDICACIONINTERNET        501428 non-null  object \n",
      " 29  ESTU_HORASSEMANATRABAJA        501428 non-null  object \n",
      " 30  ESTU_TIPOREMUNERACION          501428 non-null  object \n",
      " 31  COLE_NOMBRE_ESTABLECIMIENTO    501428 non-null  object \n",
      " 32  COLE_GENERO                    501428 non-null  object \n",
      " 33  COLE_NATURALEZA                501428 non-null  object \n",
      " 34  COLE_CALENDARIO                501428 non-null  object \n",
      " 35  COLE_BILINGUE                  501428 non-null  object \n",
      " 36  COLE_CARACTER                  501428 non-null  object \n",
      " 37  COLE_AREA_UBICACION            501428 non-null  object \n",
      " 38  COLE_JORNADA                   501428 non-null  object \n",
      " 39  COLE_MCPIO_UBICACION           501428 non-null  object \n",
      " 40  COLE_DEPTO_UBICACION           501428 non-null  object \n",
      " 41  ESTU_PRIVADO_LIBERTAD          501428 non-null  object \n",
      " 42  ESTU_MCPIO_PRESENTACION        501428 non-null  object \n",
      " 43  ESTU_DEPTO_PRESENTACION        501428 non-null  object \n",
      " 44  PUNT_LECTURA_CRITICA           501428 non-null  int64  \n",
      " 45  PERCENTIL_LECTURA_CRITICA      501428 non-null  int64  \n",
      " 46  DESEMP_LECTURA_CRITICA         501428 non-null  int64  \n",
      " 47  PUNT_MATEMATICAS               501428 non-null  int64  \n",
      " 48  PERCENTIL_MATEMATICAS          501428 non-null  int64  \n",
      " 49  DESEMP_MATEMATICAS             501428 non-null  int64  \n",
      " 50  PUNT_C_NATURALES               501428 non-null  int64  \n",
      " 51  PERCENTIL_C_NATURALES          501428 non-null  int64  \n",
      " 52  DESEMP_C_NATURALES             501428 non-null  int64  \n",
      " 53  PUNT_SOCIALES_CIUDADANAS       501428 non-null  int64  \n",
      " 54  PERCENTIL_SOCIALES_CIUDADANAS  501428 non-null  int64  \n",
      " 55  DESEMP_SOCIALES_CIUDADANAS     501428 non-null  int64  \n",
      " 56  PUNT_INGLES                    501428 non-null  float64\n",
      " 57  PERCENTIL_INGLES               501428 non-null  int64  \n",
      " 58  DESEMP_INGLES                  501428 non-null  object \n",
      " 59  PUNT_GLOBAL                    501428 non-null  int64  \n",
      " 60  PERCENTIL_GLOBAL               501428 non-null  int64  \n",
      " 61  ESTU_GENERACION-E              501428 non-null  object \n",
      "dtypes: float64(1), int64(15), object(46)\n",
      "memory usage: 241.0+ MB\n"
     ]
    }
   ],
   "source": [
    "icfesclean.info()"
   ]
  },
  {
   "cell_type": "code",
   "execution_count": 103,
   "id": "39d6b889",
   "metadata": {},
   "outputs": [
    {
     "data": {
      "text/plain": [
       "count    501428.000000\n",
       "mean        248.438683\n",
       "std          48.683068\n",
       "min           0.000000\n",
       "25%         211.000000\n",
       "50%         245.000000\n",
       "75%         282.000000\n",
       "max         500.000000\n",
       "Name: PUNT_GLOBAL, dtype: float64"
      ]
     },
     "execution_count": 103,
     "metadata": {},
     "output_type": "execute_result"
    }
   ],
   "source": [
    "icfesclean['PUNT_GLOBAL'].describe()"
   ]
  },
  {
   "cell_type": "code",
   "execution_count": 104,
   "id": "1bfbd748",
   "metadata": {},
   "outputs": [
    {
     "data": {
      "image/png": "[encoded data removed]",
      "text/plain": [
       "<Figure size 640x480 with 1 Axes>"
      ]
     },
     "metadata": {},
     "output_type": "display_data"
    }
   ],
   "source": [
    "fig1 = sns.histplot(data=icfesclean, x='PUNT_GLOBAL', binwidth=25, kde=True, color='teal')\n",
    "fig1.set(xlabel=\"Global Score\", ylabel = \"Counts\")\n",
    "plt.show()"
   ]
  },
  {
   "cell_type": "code",
   "execution_count": 105,
   "id": "cf1ec684",
   "metadata": {},
   "outputs": [
    {
     "data": {
      "image/png": "[encoded data removed]",
      "text/plain": [
       "<Figure size 640x480 with 1 Axes>"
      ]
     },
     "metadata": {},
     "output_type": "display_data"
    }
   ],
   "source": [
    "fig2 = sns.boxplot(x=icfesclean[\"PUNT_GLOBAL\"], color='teal')\n",
    "fig2.set(xlabel=\"Global Score\")\n",
    "plt.show()"
   ]
  },
  {
   "cell_type": "code",
   "execution_count": 106,
   "id": "f2064a74",
   "metadata": {},
   "outputs": [
    {
     "data": {
      "text/plain": [
       "OFICIAL       390047\n",
       "NO OFICIAL    111381\n",
       "Name: COLE_NATURALEZA, dtype: int64"
      ]
     },
     "execution_count": 106,
     "metadata": {},
     "output_type": "execute_result"
    }
   ],
   "source": [
    "colnat=icfesclean['COLE_NATURALEZA'].value_counts()\n",
    "colnat"
   ]
  },
  {
   "cell_type": "code",
   "execution_count": 107,
   "id": "0703de89",
   "metadata": {},
   "outputs": [
    {
     "name": "stdout",
     "output_type": "stream",
     "text": [
      "NO OFICIAL    271.328449\n",
      "OFICIAL       241.902330\n",
      "dtype: float64\n"
     ]
    }
   ],
   "source": [
    "colnat1 = icfesclean.groupby('COLE_NATURALEZA')['PUNT_GLOBAL'].sum()/icfesclean['COLE_NATURALEZA'].value_counts()\n",
    "print(colnat1)"
   ]
  },
  {
   "cell_type": "code",
   "execution_count": 108,
   "id": "6f66125e",
   "metadata": {},
   "outputs": [
    {
     "data": {
      "image/png": "[encoded data removed]",
      "text/plain": [
       "<Figure size 640x480 with 1 Axes>"
      ]
     },
     "metadata": {},
     "output_type": "display_data"
    }
   ],
   "source": [
    "fig3 = sns.barplot(data=icfesclean, x=\"COLE_NATURALEZA\", y=\"PUNT_GLOBAL\", palette='crest')\n",
    "fig3.set(xlabel=\"School Nature\", ylabel=\"Average Global Score\")\n",
    "plt.show()"
   ]
  },
  {
   "cell_type": "code",
   "execution_count": 109,
   "id": "d4052141",
   "metadata": {},
   "outputs": [
    {
     "name": "stdout",
     "output_type": "stream",
     "text": [
      "NO OFICIAL    55.532407\n",
      "OFICIAL       49.755432\n",
      "dtype: float64\n"
     ]
    }
   ],
   "source": [
    "colpuntmat = icfesclean.groupby('COLE_NATURALEZA')['PUNT_MATEMATICAS'].sum()/icfesclean['COLE_NATURALEZA'].value_counts()\n",
    "print(colpuntmat)"
   ]
  },
  {
   "cell_type": "code",
   "execution_count": 110,
   "id": "5e597208",
   "metadata": {},
   "outputs": [
    {
     "name": "stdout",
     "output_type": "stream",
     "text": [
      "NO OFICIAL    53.240364\n",
      "OFICIAL       45.078739\n",
      "dtype: float64\n"
     ]
    }
   ],
   "source": [
    "colpunteng = icfesclean.groupby('COLE_NATURALEZA')['PUNT_INGLES'].sum()/icfesclean['COLE_NATURALEZA'].value_counts()\n",
    "print(colpunteng)"
   ]
  },
  {
   "cell_type": "code",
   "execution_count": 111,
   "id": "91a67565",
   "metadata": {},
   "outputs": [
    {
     "name": "stdout",
     "output_type": "stream",
     "text": [
      "NO OFICIAL    56.160476\n",
      "OFICIAL       51.034450\n",
      "dtype: float64\n"
     ]
    }
   ],
   "source": [
    "colpuntlec = icfesclean.groupby('COLE_NATURALEZA')['PUNT_LECTURA_CRITICA'].sum()/icfesclean['COLE_NATURALEZA'].value_counts()\n",
    "print(colpuntlec)"
   ]
  },
  {
   "cell_type": "code",
   "execution_count": 112,
   "id": "fc562192",
   "metadata": {},
   "outputs": [
    {
     "name": "stdout",
     "output_type": "stream",
     "text": [
      "NO OFICIAL    53.273215\n",
      "OFICIAL       46.818463\n",
      "dtype: float64\n"
     ]
    }
   ],
   "source": [
    "colpuntsoc = icfesclean.groupby('COLE_NATURALEZA')['PUNT_SOCIALES_CIUDADANAS'].sum()/icfesclean['COLE_NATURALEZA'].value_counts()\n",
    "print(colpuntsoc)"
   ]
  },
  {
   "cell_type": "code",
   "execution_count": 113,
   "id": "2ffa0a78",
   "metadata": {},
   "outputs": [
    {
     "name": "stdout",
     "output_type": "stream",
     "text": [
      "NO OFICIAL    52.438001\n",
      "OFICIAL       47.013960\n",
      "dtype: float64\n"
     ]
    }
   ],
   "source": [
    "colpuntcnat = icfesclean.groupby('COLE_NATURALEZA')['PUNT_C_NATURALES'].sum()/icfesclean['COLE_NATURALEZA'].value_counts()\n",
    "print(colpuntcnat)"
   ]
  },
  {
   "cell_type": "code",
   "execution_count": 114,
   "id": "803dac7d",
   "metadata": {},
   "outputs": [
    {
     "name": "stderr",
     "output_type": "stream",
     "text": [
      "C:\\Users\\ynino\\AppData\\Local\\Temp\\ipykernel_18728\\2369097394.py:1: FutureWarning: Passing a set as an indexer is deprecated and will raise in a future version. Use a list instead.\n",
      "  puntajes = icfesclean[{'PUNT_LECTURA_CRITICA', 'PUNT_MATEMATICAS', 'PUNT_C_NATURALES',\n"
     ]
    }
   ],
   "source": [
    "puntajes = icfesclean[{'PUNT_LECTURA_CRITICA', 'PUNT_MATEMATICAS', 'PUNT_C_NATURALES', \n",
    "                       'PUNT_SOCIALES_CIUDADANAS', 'PUNT_INGLES', 'PUNT_GLOBAL'}]"
   ]
  },
  {
   "cell_type": "code",
   "execution_count": 115,
   "id": "60228233",
   "metadata": {},
   "outputs": [
    {
     "data": {
      "text/plain": [
       "<Axes: >"
      ]
     },
     "execution_count": 115,
     "metadata": {},
     "output_type": "execute_result"
    },
    {
     "data": {
      "image/png": "[encoded data removed]",
      "text/plain": [
       "<Figure size 600x400 with 2 Axes>"
      ]
     },
     "metadata": {},
     "output_type": "display_data"
    }
   ],
   "source": [
    "corr = puntajes.corr()\n",
    "plt.subplots(figsize=(6,4))\n",
    "sns.heatmap(corr, xticklabels=corr.columns,yticklabels=corr.columns, annot=True, cmap='crest')"
   ]
  },
  {
   "cell_type": "code",
   "execution_count": 116,
   "id": "ee8ee7f2",
   "metadata": {},
   "outputs": [
    {
     "data": {
      "text/plain": [
       "COLE_NATURALEZA  FAMI_TIENECOMPUTADOR\n",
       "NO OFICIAL       Si                       89803\n",
       "                 No                       16787\n",
       "                 -                         4791\n",
       "OFICIAL          Si                      201787\n",
       "                 No                      173189\n",
       "                 -                        15071\n",
       "Name: FAMI_TIENECOMPUTADOR, dtype: int64"
      ]
     },
     "execution_count": 116,
     "metadata": {},
     "output_type": "execute_result"
    }
   ],
   "source": [
    "icfesclean.groupby('COLE_NATURALEZA')['FAMI_TIENECOMPUTADOR'].value_counts()"
   ]
  },
  {
   "cell_type": "code",
   "execution_count": 117,
   "id": "469dcce9",
   "metadata": {},
   "outputs": [
    {
     "data": {
      "text/plain": [
       "COLE_NATURALEZA  FAMI_TIENECOMPUTADOR\n",
       "NO OFICIAL       -                       253.533918\n",
       "                 No                      234.565497\n",
       "                 Si                      279.149939\n",
       "OFICIAL          -                       232.863048\n",
       "                 No                      229.737789\n",
       "                 Si                      253.017989\n",
       "Name: PUNT_GLOBAL, dtype: float64"
      ]
     },
     "execution_count": 117,
     "metadata": {},
     "output_type": "execute_result"
    }
   ],
   "source": [
    "icfesclean.groupby(['COLE_NATURALEZA','FAMI_TIENECOMPUTADOR'])['PUNT_GLOBAL'].mean()\n",
    "#/icfesclean['COLE_NATURALEZA'].value_counts()\n"
   ]
  },
  {
   "cell_type": "code",
   "execution_count": 118,
   "id": "cde3625e",
   "metadata": {},
   "outputs": [
    {
     "data": {
      "image/png": "[encoded data removed]",
      "text/plain": [
       "<Figure size 640x480 with 1 Axes>"
      ]
     },
     "metadata": {},
     "output_type": "display_data"
    }
   ],
   "source": [
    "fig4 = sns.barplot(data=icfesclean, x=\"COLE_NATURALEZA\",  y=\"PUNT_GLOBAL\", \n",
    "                   hue=\"FAMI_TIENECOMPUTADOR\", palette='crest')\n",
    "fig4.set(xlabel=\"School Nature\", ylabel=\"Average Global Score\")\n",
    "#for i in fig4.containers:\n",
    "#    fig4.bar_label(i,)\n",
    "plt.show()"
   ]
  },
  {
   "cell_type": "code",
   "execution_count": 119,
   "id": "9745cbdd",
   "metadata": {},
   "outputs": [
    {
     "data": {
      "text/plain": [
       "COLE_NATURALEZA  FAMI_TIENEINTERNET\n",
       "NO OFICIAL       Si                     98195\n",
       "                 No                      9800\n",
       "                 -                       3386\n",
       "OFICIAL          Si                    242362\n",
       "                 No                    137678\n",
       "                 -                      10007\n",
       "Name: FAMI_TIENEINTERNET, dtype: int64"
      ]
     },
     "execution_count": 119,
     "metadata": {},
     "output_type": "execute_result"
    }
   ],
   "source": [
    "icfesclean.groupby('COLE_NATURALEZA')['FAMI_TIENEINTERNET'].value_counts()"
   ]
  },
  {
   "cell_type": "code",
   "execution_count": 120,
   "id": "ed830911",
   "metadata": {},
   "outputs": [
    {
     "data": {
      "text/plain": [
       "COLE_NATURALEZA  FAMI_TIENEINTERNET\n",
       "NO OFICIAL       -                     250.401949\n",
       "                 No                    228.908980\n",
       "                 Si                    276.283568\n",
       "OFICIAL          -                     231.513740\n",
       "                 No                    226.210005\n",
       "                 Si                    251.245571\n",
       "Name: PUNT_GLOBAL, dtype: float64"
      ]
     },
     "execution_count": 120,
     "metadata": {},
     "output_type": "execute_result"
    }
   ],
   "source": [
    "icfesclean.groupby(['COLE_NATURALEZA','FAMI_TIENEINTERNET'])['PUNT_GLOBAL'].mean()"
   ]
  },
  {
   "cell_type": "code",
   "execution_count": 121,
   "id": "74cdce3c",
   "metadata": {},
   "outputs": [
    {
     "data": {
      "image/png": "[encoded data removed]",
      "text/plain": [
       "<Figure size 640x480 with 1 Axes>"
      ]
     },
     "metadata": {},
     "output_type": "display_data"
    }
   ],
   "source": [
    "fig5 = sns.barplot(data=icfesclean, x=\"COLE_NATURALEZA\",  y=\"PUNT_GLOBAL\", \n",
    "                   hue=\"FAMI_TIENEINTERNET\", palette='crest')\n",
    "fig5.set(xlabel=\"School Nature\", ylabel=\"Average Global Score\")\n",
    "plt.show()"
   ]
  },
  {
   "cell_type": "code",
   "execution_count": 122,
   "id": "42bd2a31",
   "metadata": {},
   "outputs": [
    {
     "data": {
      "text/plain": [
       "COLE_NATURALEZA  FAMI_ESTRATOVIVIENDA\n",
       "NO OFICIAL       Estrato 1               243.154093\n",
       "                 Estrato 2               262.719820\n",
       "                 Estrato 3               278.996649\n",
       "                 Estrato 4               296.392203\n",
       "                 Estrato 5               300.840334\n",
       "                 Estrato 6               297.916921\n",
       "                 Sin Estrato             227.557090\n",
       "                 Sin estrato             252.061121\n",
       "OFICIAL          Estrato 1               236.395810\n",
       "                 Estrato 2               247.523949\n",
       "                 Estrato 3               252.887942\n",
       "                 Estrato 4               238.600000\n",
       "                 Estrato 5               217.136639\n",
       "                 Estrato 6               202.888654\n",
       "                 Sin Estrato             208.316740\n",
       "                 Sin estrato             230.812937\n",
       "Name: PUNT_GLOBAL, dtype: float64"
      ]
     },
     "execution_count": 122,
     "metadata": {},
     "output_type": "execute_result"
    }
   ],
   "source": [
    "icfesclean.groupby(['COLE_NATURALEZA','FAMI_ESTRATOVIVIENDA'])['PUNT_GLOBAL'].mean()"
   ]
  },
  {
   "cell_type": "code",
   "execution_count": 123,
   "id": "c924e66b",
   "metadata": {},
   "outputs": [
    {
     "data": {
      "image/png": "[encoded data removed]",
      "text/plain": [
       "<Figure size 640x480 with 1 Axes>"
      ]
     },
     "metadata": {},
     "output_type": "display_data"
    }
   ],
   "source": [
    "fig6 = sns.barplot(data=icfesclean, x=\"FAMI_ESTRATOVIVIENDA\",  y=\"PUNT_GLOBAL\", \n",
    "                   hue=\"COLE_NATURALEZA\", palette='crest')\n",
    "fig6.set(xlabel=\"School Nature\", ylabel=\"Average Global Score\")\n",
    "plt.show()"
   ]
  }
 ],
 "metadata": {
  "kernelspec": {
   "display_name": "homeworks",
   "language": "python",
   "name": "python3"
  },
  "language_info": {
   "codemirror_mode": {
    "name": "ipython",
    "version": 3
   },
   "file_extension": ".py",
   "mimetype": "text/x-python",
   "name": "python",
   "nbconvert_exporter": "python",
   "pygments_lexer": "ipython3",
   "version": "3.11.2"
  },
  "vscode": {
   "interpreter": {
    "hash": "49e69bb4716113a91a66de989ea890dd75964954426edc72a646151dbf8fe411"
   }
  }
 },
 "nbformat": 4,
 "nbformat_minor": 5
}
